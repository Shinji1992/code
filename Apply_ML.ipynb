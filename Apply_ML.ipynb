{
 "cells": [
  {
   "cell_type": "code",
   "execution_count": 1,
   "metadata": {},
   "outputs": [],
   "source": [
    "import pandas as pd\n",
    "import numpy as np\n",
    "import seaborn as sns\n",
    "import matplotlib.pyplot as plt\n",
    "from sklearn.impute import KNNImputer\n",
    "from sklearn import linear_model\n",
    "from sklearn.model_selection import train_test_split\n",
    "from sklearn.metrics import r2_score\n",
    "from scipy import stats\n",
    "from sklearn.metrics import mean_squared_error\n",
    "from sklearn import preprocessing\n",
    "from sklearn.preprocessing import StandardScaler\n",
    "from sklearn.model_selection import cross_val_score\n",
    "from sklearn.model_selection import KFold\n",
    "from sklearn.linear_model import LogisticRegression\n",
    "from sklearn.linear_model import Lasso, Ridge\n",
    "from sklearn import neighbors\n",
    "from sklearn.preprocessing import PolynomialFeatures\n",
    "from sklearn.tree import DecisionTreeRegressor\n",
    "from sklearn.ensemble import RandomForestRegressor\n",
    "from sklearn import svm\n",
    "from sklearn.svm import SVR\n",
    "from sklearn.model_selection import GridSearchCV\n",
    "from sklearn.pipeline import make_pipeline\n",
    "from statsmodels.stats.outliers_influence import variance_inflation_factor\n",
    "import warnings\n",
    "warnings.simplefilter('ignore')\n",
    "from sklearn.neural_network import MLPRegressor\n",
    "import tensorflow as tf\n",
    "from tensorflow import keras\n",
    "from tensorflow.keras import layers"
   ]
  },
  {
   "cell_type": "markdown",
   "metadata": {},
   "source": [
    "# Creates datetime data"
   ]
  },
  {
   "cell_type": "code",
   "execution_count": 2,
   "metadata": {
    "scrolled": true
   },
   "outputs": [],
   "source": [
    "# Creates date_cet, date, month, day_of_week and time features\n",
    "df_datetime = pd.date_range(start='01/01/2015 00:00:00', end='12/31/2019 23:00:00',freq='H', tz='Europe/Berlin').to_series()\n",
    "date = df_datetime.dt.date\n",
    "month = df_datetime.dt.month\n",
    "day_of_week = df_datetime.dt.dayofweek\n",
    "time = df_datetime.dt.hour\n",
    "df_datetime = pd.DataFrame(df_datetime,columns = ['Date_cet']).reset_index().drop(\"index\", axis=1)"
   ]
  },
  {
   "cell_type": "code",
   "execution_count": 3,
   "metadata": {},
   "outputs": [],
   "source": [
    "def create_datetime(data,name):\n",
    "    data=data.values.tolist()\n",
    "    data=pd.DataFrame(data,columns = [name])\n",
    "    return data"
   ]
  },
  {
   "cell_type": "code",
   "execution_count": 4,
   "metadata": {},
   "outputs": [],
   "source": [
    "date = create_datetime(date,'Date')\n",
    "month = create_datetime(month,'Month')\n",
    "day_of_week = create_datetime(day_of_week,'Day_of_week')\n",
    "time = create_datetime(time,'Time')"
   ]
  },
  {
   "cell_type": "code",
   "execution_count": 5,
   "metadata": {},
   "outputs": [
    {
     "data": {
      "text/html": [
       "<div>\n",
       "<style scoped>\n",
       "    .dataframe tbody tr th:only-of-type {\n",
       "        vertical-align: middle;\n",
       "    }\n",
       "\n",
       "    .dataframe tbody tr th {\n",
       "        vertical-align: top;\n",
       "    }\n",
       "\n",
       "    .dataframe thead th {\n",
       "        text-align: right;\n",
       "    }\n",
       "</style>\n",
       "<table border=\"1\" class=\"dataframe\">\n",
       "  <thead>\n",
       "    <tr style=\"text-align: right;\">\n",
       "      <th></th>\n",
       "      <th>Date_cet</th>\n",
       "      <th>Date</th>\n",
       "      <th>Month</th>\n",
       "      <th>Day_of_week</th>\n",
       "      <th>Time</th>\n",
       "    </tr>\n",
       "  </thead>\n",
       "  <tbody>\n",
       "    <tr>\n",
       "      <th>0</th>\n",
       "      <td>2015-01-01 00:00:00+01:00</td>\n",
       "      <td>2015-01-01</td>\n",
       "      <td>1</td>\n",
       "      <td>3</td>\n",
       "      <td>0</td>\n",
       "    </tr>\n",
       "    <tr>\n",
       "      <th>1</th>\n",
       "      <td>2015-01-01 01:00:00+01:00</td>\n",
       "      <td>2015-01-01</td>\n",
       "      <td>1</td>\n",
       "      <td>3</td>\n",
       "      <td>1</td>\n",
       "    </tr>\n",
       "    <tr>\n",
       "      <th>2</th>\n",
       "      <td>2015-01-01 02:00:00+01:00</td>\n",
       "      <td>2015-01-01</td>\n",
       "      <td>1</td>\n",
       "      <td>3</td>\n",
       "      <td>2</td>\n",
       "    </tr>\n",
       "    <tr>\n",
       "      <th>3</th>\n",
       "      <td>2015-01-01 03:00:00+01:00</td>\n",
       "      <td>2015-01-01</td>\n",
       "      <td>1</td>\n",
       "      <td>3</td>\n",
       "      <td>3</td>\n",
       "    </tr>\n",
       "    <tr>\n",
       "      <th>4</th>\n",
       "      <td>2015-01-01 04:00:00+01:00</td>\n",
       "      <td>2015-01-01</td>\n",
       "      <td>1</td>\n",
       "      <td>3</td>\n",
       "      <td>4</td>\n",
       "    </tr>\n",
       "  </tbody>\n",
       "</table>\n",
       "</div>"
      ],
      "text/plain": [
       "                   Date_cet        Date  Month  Day_of_week  Time\n",
       "0 2015-01-01 00:00:00+01:00  2015-01-01      1            3     0\n",
       "1 2015-01-01 01:00:00+01:00  2015-01-01      1            3     1\n",
       "2 2015-01-01 02:00:00+01:00  2015-01-01      1            3     2\n",
       "3 2015-01-01 03:00:00+01:00  2015-01-01      1            3     3\n",
       "4 2015-01-01 04:00:00+01:00  2015-01-01      1            3     4"
      ]
     },
     "execution_count": 5,
     "metadata": {},
     "output_type": "execute_result"
    }
   ],
   "source": [
    "# Merges data\n",
    "df_date = pd.concat([df_datetime,date['Date'],month['Month'],day_of_week['Day_of_week'],time['Time']],axis=1)\n",
    "df_date.head()"
   ]
  },
  {
   "cell_type": "code",
   "execution_count": 6,
   "metadata": {},
   "outputs": [
    {
     "data": {
      "text/html": [
       "<div>\n",
       "<style scoped>\n",
       "    .dataframe tbody tr th:only-of-type {\n",
       "        vertical-align: middle;\n",
       "    }\n",
       "\n",
       "    .dataframe tbody tr th {\n",
       "        vertical-align: top;\n",
       "    }\n",
       "\n",
       "    .dataframe thead th {\n",
       "        text-align: right;\n",
       "    }\n",
       "</style>\n",
       "<table border=\"1\" class=\"dataframe\">\n",
       "  <thead>\n",
       "    <tr style=\"text-align: right;\">\n",
       "      <th></th>\n",
       "      <th>Date_cet</th>\n",
       "      <th>Date</th>\n",
       "      <th>Month</th>\n",
       "      <th>Day_of_week</th>\n",
       "      <th>Time</th>\n",
       "      <th>Weekend</th>\n",
       "    </tr>\n",
       "  </thead>\n",
       "  <tbody>\n",
       "    <tr>\n",
       "      <th>0</th>\n",
       "      <td>2015-01-01 00:00:00+01:00</td>\n",
       "      <td>2015-01-01</td>\n",
       "      <td>1</td>\n",
       "      <td>3</td>\n",
       "      <td>0</td>\n",
       "      <td>0</td>\n",
       "    </tr>\n",
       "    <tr>\n",
       "      <th>1</th>\n",
       "      <td>2015-01-01 01:00:00+01:00</td>\n",
       "      <td>2015-01-01</td>\n",
       "      <td>1</td>\n",
       "      <td>3</td>\n",
       "      <td>1</td>\n",
       "      <td>0</td>\n",
       "    </tr>\n",
       "    <tr>\n",
       "      <th>2</th>\n",
       "      <td>2015-01-01 02:00:00+01:00</td>\n",
       "      <td>2015-01-01</td>\n",
       "      <td>1</td>\n",
       "      <td>3</td>\n",
       "      <td>2</td>\n",
       "      <td>0</td>\n",
       "    </tr>\n",
       "    <tr>\n",
       "      <th>3</th>\n",
       "      <td>2015-01-01 03:00:00+01:00</td>\n",
       "      <td>2015-01-01</td>\n",
       "      <td>1</td>\n",
       "      <td>3</td>\n",
       "      <td>3</td>\n",
       "      <td>0</td>\n",
       "    </tr>\n",
       "    <tr>\n",
       "      <th>4</th>\n",
       "      <td>2015-01-01 04:00:00+01:00</td>\n",
       "      <td>2015-01-01</td>\n",
       "      <td>1</td>\n",
       "      <td>3</td>\n",
       "      <td>4</td>\n",
       "      <td>0</td>\n",
       "    </tr>\n",
       "  </tbody>\n",
       "</table>\n",
       "</div>"
      ],
      "text/plain": [
       "                   Date_cet        Date  Month  Day_of_week  Time  Weekend\n",
       "0 2015-01-01 00:00:00+01:00  2015-01-01      1            3     0        0\n",
       "1 2015-01-01 01:00:00+01:00  2015-01-01      1            3     1        0\n",
       "2 2015-01-01 02:00:00+01:00  2015-01-01      1            3     2        0\n",
       "3 2015-01-01 03:00:00+01:00  2015-01-01      1            3     3        0\n",
       "4 2015-01-01 04:00:00+01:00  2015-01-01      1            3     4        0"
      ]
     },
     "execution_count": 6,
     "metadata": {},
     "output_type": "execute_result"
    }
   ],
   "source": [
    "# Creates weekend\n",
    "day_of_week_dummy = pd.get_dummies(df_date['Day_of_week']).astype(int)\n",
    "day_of_week_dummy['Weekend'] = day_of_week_dummy[5] + day_of_week_dummy[6]\n",
    "df_date = pd.concat([df_date, day_of_week_dummy['Weekend']],axis=1)\n",
    "df_date.head()"
   ]
  },
  {
   "cell_type": "code",
   "execution_count": 7,
   "metadata": {},
   "outputs": [
    {
     "data": {
      "text/html": [
       "<div>\n",
       "<style scoped>\n",
       "    .dataframe tbody tr th:only-of-type {\n",
       "        vertical-align: middle;\n",
       "    }\n",
       "\n",
       "    .dataframe tbody tr th {\n",
       "        vertical-align: top;\n",
       "    }\n",
       "\n",
       "    .dataframe thead th {\n",
       "        text-align: right;\n",
       "    }\n",
       "</style>\n",
       "<table border=\"1\" class=\"dataframe\">\n",
       "  <thead>\n",
       "    <tr style=\"text-align: right;\">\n",
       "      <th></th>\n",
       "      <th>Date_cet</th>\n",
       "      <th>Date</th>\n",
       "      <th>Month</th>\n",
       "      <th>Day_of_week</th>\n",
       "      <th>Time</th>\n",
       "      <th>Weekend</th>\n",
       "      <th>Public_holidays</th>\n",
       "    </tr>\n",
       "  </thead>\n",
       "  <tbody>\n",
       "    <tr>\n",
       "      <th>0</th>\n",
       "      <td>2015-01-01 00:00:00+01:00</td>\n",
       "      <td>2015-01-01</td>\n",
       "      <td>1</td>\n",
       "      <td>3</td>\n",
       "      <td>0</td>\n",
       "      <td>0</td>\n",
       "      <td>1</td>\n",
       "    </tr>\n",
       "    <tr>\n",
       "      <th>1</th>\n",
       "      <td>2015-01-01 01:00:00+01:00</td>\n",
       "      <td>2015-01-01</td>\n",
       "      <td>1</td>\n",
       "      <td>3</td>\n",
       "      <td>1</td>\n",
       "      <td>0</td>\n",
       "      <td>1</td>\n",
       "    </tr>\n",
       "    <tr>\n",
       "      <th>2</th>\n",
       "      <td>2015-01-01 02:00:00+01:00</td>\n",
       "      <td>2015-01-01</td>\n",
       "      <td>1</td>\n",
       "      <td>3</td>\n",
       "      <td>2</td>\n",
       "      <td>0</td>\n",
       "      <td>1</td>\n",
       "    </tr>\n",
       "    <tr>\n",
       "      <th>3</th>\n",
       "      <td>2015-01-01 03:00:00+01:00</td>\n",
       "      <td>2015-01-01</td>\n",
       "      <td>1</td>\n",
       "      <td>3</td>\n",
       "      <td>3</td>\n",
       "      <td>0</td>\n",
       "      <td>1</td>\n",
       "    </tr>\n",
       "    <tr>\n",
       "      <th>4</th>\n",
       "      <td>2015-01-01 04:00:00+01:00</td>\n",
       "      <td>2015-01-01</td>\n",
       "      <td>1</td>\n",
       "      <td>3</td>\n",
       "      <td>4</td>\n",
       "      <td>0</td>\n",
       "      <td>1</td>\n",
       "    </tr>\n",
       "  </tbody>\n",
       "</table>\n",
       "</div>"
      ],
      "text/plain": [
       "                   Date_cet        Date  Month  Day_of_week  Time  Weekend  \\\n",
       "0 2015-01-01 00:00:00+01:00  2015-01-01      1            3     0        0   \n",
       "1 2015-01-01 01:00:00+01:00  2015-01-01      1            3     1        0   \n",
       "2 2015-01-01 02:00:00+01:00  2015-01-01      1            3     2        0   \n",
       "3 2015-01-01 03:00:00+01:00  2015-01-01      1            3     3        0   \n",
       "4 2015-01-01 04:00:00+01:00  2015-01-01      1            3     4        0   \n",
       "\n",
       "   Public_holidays  \n",
       "0                1  \n",
       "1                1  \n",
       "2                1  \n",
       "3                1  \n",
       "4                1  "
      ]
     },
     "execution_count": 7,
     "metadata": {},
     "output_type": "execute_result"
    }
   ],
   "source": [
    "# Creates publich holidays in Germany\n",
    "import holidays\n",
    "def get_holidays(year):\n",
    "    holidays_date = []\n",
    "    for date in sorted(holidays.DE(years=year).items()):\n",
    "        holidays_date.append(str(date[0]))\n",
    "    return holidays_date\n",
    "\n",
    "year = [2015,2016,2017,2018,2019]\n",
    "holidays_list = get_holidays(year)\n",
    "holidays_list = '|'.join(holidays_list)\n",
    "df_date['Date'] = df_date['Date'].apply(str)\n",
    "holidays = df_date['Date'].str.contains(holidays_list)\n",
    "holidays *= 1 # True = 1, False = 0\n",
    "holidays=holidays.rename(\"Public_holidays\")\n",
    "df_date = pd.concat([df_date,holidays],axis=1)\n",
    "df_date.head()"
   ]
  },
  {
   "cell_type": "code",
   "execution_count": 8,
   "metadata": {},
   "outputs": [
    {
     "data": {
      "text/html": [
       "<div>\n",
       "<style scoped>\n",
       "    .dataframe tbody tr th:only-of-type {\n",
       "        vertical-align: middle;\n",
       "    }\n",
       "\n",
       "    .dataframe tbody tr th {\n",
       "        vertical-align: top;\n",
       "    }\n",
       "\n",
       "    .dataframe thead th {\n",
       "        text-align: right;\n",
       "    }\n",
       "</style>\n",
       "<table border=\"1\" class=\"dataframe\">\n",
       "  <thead>\n",
       "    <tr style=\"text-align: right;\">\n",
       "      <th></th>\n",
       "      <th>Date_cet</th>\n",
       "      <th>Date</th>\n",
       "      <th>Month</th>\n",
       "      <th>Day_of_week</th>\n",
       "      <th>Time</th>\n",
       "      <th>Weekend_with_holidays</th>\n",
       "    </tr>\n",
       "  </thead>\n",
       "  <tbody>\n",
       "    <tr>\n",
       "      <th>0</th>\n",
       "      <td>2015-01-01 00:00:00+01:00</td>\n",
       "      <td>2015-01-01</td>\n",
       "      <td>1</td>\n",
       "      <td>3</td>\n",
       "      <td>0</td>\n",
       "      <td>1</td>\n",
       "    </tr>\n",
       "    <tr>\n",
       "      <th>1</th>\n",
       "      <td>2015-01-01 01:00:00+01:00</td>\n",
       "      <td>2015-01-01</td>\n",
       "      <td>1</td>\n",
       "      <td>3</td>\n",
       "      <td>1</td>\n",
       "      <td>1</td>\n",
       "    </tr>\n",
       "    <tr>\n",
       "      <th>2</th>\n",
       "      <td>2015-01-01 02:00:00+01:00</td>\n",
       "      <td>2015-01-01</td>\n",
       "      <td>1</td>\n",
       "      <td>3</td>\n",
       "      <td>2</td>\n",
       "      <td>1</td>\n",
       "    </tr>\n",
       "    <tr>\n",
       "      <th>3</th>\n",
       "      <td>2015-01-01 03:00:00+01:00</td>\n",
       "      <td>2015-01-01</td>\n",
       "      <td>1</td>\n",
       "      <td>3</td>\n",
       "      <td>3</td>\n",
       "      <td>1</td>\n",
       "    </tr>\n",
       "    <tr>\n",
       "      <th>4</th>\n",
       "      <td>2015-01-01 04:00:00+01:00</td>\n",
       "      <td>2015-01-01</td>\n",
       "      <td>1</td>\n",
       "      <td>3</td>\n",
       "      <td>4</td>\n",
       "      <td>1</td>\n",
       "    </tr>\n",
       "  </tbody>\n",
       "</table>\n",
       "</div>"
      ],
      "text/plain": [
       "                   Date_cet        Date  Month  Day_of_week  Time  \\\n",
       "0 2015-01-01 00:00:00+01:00  2015-01-01      1            3     0   \n",
       "1 2015-01-01 01:00:00+01:00  2015-01-01      1            3     1   \n",
       "2 2015-01-01 02:00:00+01:00  2015-01-01      1            3     2   \n",
       "3 2015-01-01 03:00:00+01:00  2015-01-01      1            3     3   \n",
       "4 2015-01-01 04:00:00+01:00  2015-01-01      1            3     4   \n",
       "\n",
       "   Weekend_with_holidays  \n",
       "0                      1  \n",
       "1                      1  \n",
       "2                      1  \n",
       "3                      1  \n",
       "4                      1  "
      ]
     },
     "execution_count": 8,
     "metadata": {},
     "output_type": "execute_result"
    }
   ],
   "source": [
    "# Creat weekend with holidays\n",
    "df_date['Weekend_with_holidays'] = df_date['Weekend'] + df_date['Public_holidays']\n",
    "df_date[\"Weekend_with_holidays\"].replace({2: 1}, inplace=True)\n",
    "df_date.drop(['Weekend', 'Public_holidays'], axis=1, inplace=True)\n",
    "df_date.head()"
   ]
  },
  {
   "cell_type": "code",
   "execution_count": 9,
   "metadata": {},
   "outputs": [
    {
     "data": {
      "text/html": [
       "<div>\n",
       "<style scoped>\n",
       "    .dataframe tbody tr th:only-of-type {\n",
       "        vertical-align: middle;\n",
       "    }\n",
       "\n",
       "    .dataframe tbody tr th {\n",
       "        vertical-align: top;\n",
       "    }\n",
       "\n",
       "    .dataframe thead th {\n",
       "        text-align: right;\n",
       "    }\n",
       "</style>\n",
       "<table border=\"1\" class=\"dataframe\">\n",
       "  <thead>\n",
       "    <tr style=\"text-align: right;\">\n",
       "      <th></th>\n",
       "      <th>Date_cet</th>\n",
       "      <th>Date</th>\n",
       "      <th>Month</th>\n",
       "      <th>Day_of_week</th>\n",
       "      <th>Time</th>\n",
       "      <th>Weekend_with_holidays</th>\n",
       "      <th>Seasons</th>\n",
       "    </tr>\n",
       "  </thead>\n",
       "  <tbody>\n",
       "    <tr>\n",
       "      <th>0</th>\n",
       "      <td>2015-01-01 00:00:00+01:00</td>\n",
       "      <td>2015-01-01</td>\n",
       "      <td>1</td>\n",
       "      <td>3</td>\n",
       "      <td>0</td>\n",
       "      <td>1</td>\n",
       "      <td>3</td>\n",
       "    </tr>\n",
       "    <tr>\n",
       "      <th>1</th>\n",
       "      <td>2015-01-01 01:00:00+01:00</td>\n",
       "      <td>2015-01-01</td>\n",
       "      <td>1</td>\n",
       "      <td>3</td>\n",
       "      <td>1</td>\n",
       "      <td>1</td>\n",
       "      <td>3</td>\n",
       "    </tr>\n",
       "    <tr>\n",
       "      <th>2</th>\n",
       "      <td>2015-01-01 02:00:00+01:00</td>\n",
       "      <td>2015-01-01</td>\n",
       "      <td>1</td>\n",
       "      <td>3</td>\n",
       "      <td>2</td>\n",
       "      <td>1</td>\n",
       "      <td>3</td>\n",
       "    </tr>\n",
       "    <tr>\n",
       "      <th>3</th>\n",
       "      <td>2015-01-01 03:00:00+01:00</td>\n",
       "      <td>2015-01-01</td>\n",
       "      <td>1</td>\n",
       "      <td>3</td>\n",
       "      <td>3</td>\n",
       "      <td>1</td>\n",
       "      <td>3</td>\n",
       "    </tr>\n",
       "    <tr>\n",
       "      <th>4</th>\n",
       "      <td>2015-01-01 04:00:00+01:00</td>\n",
       "      <td>2015-01-01</td>\n",
       "      <td>1</td>\n",
       "      <td>3</td>\n",
       "      <td>4</td>\n",
       "      <td>1</td>\n",
       "      <td>3</td>\n",
       "    </tr>\n",
       "  </tbody>\n",
       "</table>\n",
       "</div>"
      ],
      "text/plain": [
       "                    Date_cet        Date  Month  Day_of_week  Time  \\\n",
       "0  2015-01-01 00:00:00+01:00  2015-01-01      1            3     0   \n",
       "1  2015-01-01 01:00:00+01:00  2015-01-01      1            3     1   \n",
       "2  2015-01-01 02:00:00+01:00  2015-01-01      1            3     2   \n",
       "3  2015-01-01 03:00:00+01:00  2015-01-01      1            3     3   \n",
       "4  2015-01-01 04:00:00+01:00  2015-01-01      1            3     4   \n",
       "\n",
       "   Weekend_with_holidays  Seasons  \n",
       "0                      1        3  \n",
       "1                      1        3  \n",
       "2                      1        3  \n",
       "3                      1        3  \n",
       "4                      1        3  "
      ]
     },
     "execution_count": 9,
     "metadata": {},
     "output_type": "execute_result"
    }
   ],
   "source": [
    "# Creates seasons\n",
    "df_date['Month'] = df_date['Month'].apply(str)\n",
    "df_date['Seasons'] = df_date['Month']\n",
    "df_date.loc[df_date['Seasons'].str.contains('3|4|5'),'Seasons'] = '0' # Spring\n",
    "df_date.loc[df_date['Seasons'].str.contains('6|7|8'),'Seasons'] = '1' # Summer\n",
    "df_date.loc[df_date['Seasons'].str.contains('9|10|11'),'Seasons'] = '2' # Autumn\n",
    "df_date.loc[df_date['Seasons'].str.contains('12|1|2'),'Seasons'] = '3' # Winter\n",
    "df_date[['Seasons','Month']] = df_date[['Seasons','Month']].astype(int)\n",
    "df_date['Date_cet'] = df_date['Date_cet'].apply(str)\n",
    "df_date.head()"
   ]
  },
  {
   "cell_type": "code",
   "execution_count": 10,
   "metadata": {},
   "outputs": [
    {
     "data": {
      "text/plain": [
       "Date_cet                 object\n",
       "Date                     object\n",
       "Month                     int64\n",
       "Day_of_week               int64\n",
       "Time                      int64\n",
       "Weekend_with_holidays     int64\n",
       "Seasons                   int64\n",
       "dtype: object"
      ]
     },
     "execution_count": 10,
     "metadata": {},
     "output_type": "execute_result"
    }
   ],
   "source": [
    "df_date.dtypes"
   ]
  },
  {
   "cell_type": "markdown",
   "metadata": {},
   "source": [
    "# Data Cleansing"
   ]
  },
  {
   "cell_type": "code",
   "execution_count": 11,
   "metadata": {},
   "outputs": [
    {
     "data": {
      "text/plain": [
       "(43824, 20)"
      ]
     },
     "execution_count": 11,
     "metadata": {},
     "output_type": "execute_result"
    }
   ],
   "source": [
    "# Imports data\n",
    "df = pd.read_csv('German_data.csv')\n",
    "df.shape"
   ]
  },
  {
   "cell_type": "code",
   "execution_count": 12,
   "metadata": {},
   "outputs": [
    {
     "data": {
      "text/plain": [
       "['Date_CET',\n",
       " 'Day-ahead[Euro/MWh]',\n",
       " 'Load_actual[MWh]',\n",
       " 'Load_forecast[MWh]',\n",
       " 'Fossil_gas_actual[MWh]',\n",
       " 'Fossil_brown_coal_actual[MWh]',\n",
       " 'Fossil_hard_coal_actual[MWh]',\n",
       " 'Nuclear_actual[MWh]',\n",
       " 'Other_conventional_actual[MWh]',\n",
       " 'Hydro_pumped_storage_actual[MWh]',\n",
       " 'Hydropower_actual[MWh]',\n",
       " 'Biomass_actual[MWh]',\n",
       " 'Photovoltaics_actual[MWh]',\n",
       " 'Wind_onshore_actual[MWh]',\n",
       " 'Wind_offshore_actual[MWh]',\n",
       " 'Other_renewable_actual[MWh]',\n",
       " 'Photovoltaics_forecast[MWh]',\n",
       " 'Wind_onshore_forecast[MWh]',\n",
       " 'Wind_offshore_forecast[MWh]',\n",
       " 'Other_forecast[MWh]']"
      ]
     },
     "execution_count": 12,
     "metadata": {},
     "output_type": "execute_result"
    }
   ],
   "source": [
    "# Shows features\n",
    "list(df)"
   ]
  },
  {
   "cell_type": "code",
   "execution_count": 13,
   "metadata": {},
   "outputs": [
    {
     "data": {
      "text/plain": [
       "(42719, 20)"
      ]
     },
     "execution_count": 13,
     "metadata": {},
     "output_type": "execute_result"
    }
   ],
   "source": [
    "# Drops nan\n",
    "df_drop_nan = df.dropna()\n",
    "df_drop_nan.shape"
   ]
  },
  {
   "cell_type": "code",
   "execution_count": 14,
   "metadata": {},
   "outputs": [],
   "source": [
    "# Creates list of features without date\n",
    "all_list = list(df)\n",
    "all_list_without_data_price = all_list.copy()\n",
    "all_list_without_data_price.remove('Date_CET')\n",
    "all_list_without_data_price.remove('Day-ahead[Euro/MWh]')"
   ]
  },
  {
   "cell_type": "code",
   "execution_count": 15,
   "metadata": {},
   "outputs": [],
   "source": [
    "# Handles skewed data\n",
    "df_drop_nan_skewed = df_drop_nan.copy()\n",
    "\n",
    "list_skewed = [] # list of skewed data features\n",
    "for i in all_list_without_data_price:\n",
    "    s=round(df_drop_nan_skewed[i].skew(),3)\n",
    "    if s > 0.5 or s < -0.5:\n",
    "        list_skewed.append(i)\n",
    "        pass\n",
    "\n",
    "ld = [] # Ceate list of lambda which requires reversing values\n",
    "for i in list_skewed:\n",
    "    df_drop_nan_skewed[i],lmbda = stats.boxcox(1+df_drop_nan_skewed[i])\n",
    "    ld.append(lmbda)"
   ]
  },
  {
   "cell_type": "code",
   "execution_count": 16,
   "metadata": {},
   "outputs": [
    {
     "data": {
      "text/plain": [
       "(42643, 20)"
      ]
     },
     "execution_count": 16,
     "metadata": {},
     "output_type": "execute_result"
    }
   ],
   "source": [
    "# Drops outliers which is out of ±3 z-score\n",
    "df_drop_nan_skewed_outliers = df_drop_nan_skewed.copy()\n",
    "\n",
    "for i in all_list_without_data_price:\n",
    "    sd = 3\n",
    "    upper_lim = df_drop_nan_skewed_outliers[i].mean() + df_drop_nan_skewed_outliers[i].std() * sd\n",
    "    lower_lim = df_drop_nan_skewed_outliers[i].mean() - df_drop_nan_skewed_outliers[i].std() * sd\n",
    "    df_drop_nan_skewed_outliers = df_drop_nan_skewed_outliers[(df_drop_nan_skewed_outliers[i] < upper_lim) & (df_drop_nan_skewed_outliers[i] > lower_lim)]\n",
    "    \n",
    "df_drop_nan_skewed_outliers.shape"
   ]
  },
  {
   "cell_type": "code",
   "execution_count": 17,
   "metadata": {},
   "outputs": [],
   "source": [
    "X = df_drop_nan_skewed_outliers[all_list_without_data_price]"
   ]
  },
  {
   "cell_type": "code",
   "execution_count": 18,
   "metadata": {},
   "outputs": [],
   "source": [
    "# Normalization of the data\n",
    "X_array = X.values\n",
    "min_max_scaler = preprocessing.MinMaxScaler()\n",
    "normalized_X = min_max_scaler.fit_transform(X_array)\n",
    "normalized_X = pd.DataFrame(normalized_X)\n",
    "normalized_X.rename(columns={i:j for i,j in zip(list(range(len(all_list_without_data_price))),all_list_without_data_price)}, inplace=True)"
   ]
  },
  {
   "cell_type": "code",
   "execution_count": 19,
   "metadata": {},
   "outputs": [],
   "source": [
    "# Creates Date_CET and Day-ahead data\n",
    "df_date_day_ahead = df_drop_nan_skewed_outliers.copy()\n",
    "df_date_day_ahead = df_date_day_ahead[['Date_CET','Day-ahead[Euro/MWh]']].reset_index()"
   ]
  },
  {
   "cell_type": "code",
   "execution_count": 20,
   "metadata": {},
   "outputs": [],
   "source": [
    "# Merges normalized data, and Date_CET and Day-ahead data \n",
    "df_normalized_data = pd.concat([df_date_day_ahead,normalized_X],axis=1).drop(\"index\", axis=1)"
   ]
  },
  {
   "cell_type": "code",
   "execution_count": 21,
   "metadata": {},
   "outputs": [],
   "source": [
    "# Standardization of the data\n",
    "standard_scaler = preprocessing.StandardScaler()\n",
    "standard_X = standard_scaler.fit_transform(X_array)\n",
    "standard_X = pd.DataFrame(standard_X)\n",
    "standard_X.rename(columns={i:j for i,j in zip(list(range(len(all_list_without_data_price))),all_list_without_data_price)}, inplace=True)"
   ]
  },
  {
   "cell_type": "code",
   "execution_count": 22,
   "metadata": {},
   "outputs": [],
   "source": [
    "# Merges Standardized data, and Date_CET and Day-ahead data \n",
    "df_standardized_data = pd.concat([df_date_day_ahead,standard_X],axis=1).drop(\"index\", axis=1)"
   ]
  },
  {
   "cell_type": "code",
   "execution_count": 23,
   "metadata": {},
   "outputs": [],
   "source": [
    "# Merges German data and date_data\n",
    "df_normalized_data_with_date = pd.merge(df_normalized_data, df_date, left_on='Date_CET', right_on='Date_cet', how='left').drop(\"Date_cet\", axis=1)\n",
    "df_standardized_data_with_date = pd.merge(df_standardized_data, df_date, left_on='Date_CET', right_on='Date_cet', how='left').drop(\"Date_cet\", axis=1)"
   ]
  },
  {
   "cell_type": "code",
   "execution_count": 24,
   "metadata": {},
   "outputs": [],
   "source": [
    "pd.set_option('display.max_columns', 100)"
   ]
  },
  {
   "cell_type": "code",
   "execution_count": 25,
   "metadata": {},
   "outputs": [
    {
     "name": "stdout",
     "output_type": "stream",
     "text": [
      "(42643, 26)\n",
      "Date_CET                             object\n",
      "Day-ahead[Euro/MWh]                 float64\n",
      "Load_actual[MWh]                    float64\n",
      "Load_forecast[MWh]                  float64\n",
      "Fossil_gas_actual[MWh]              float64\n",
      "Fossil_brown_coal_actual[MWh]       float64\n",
      "Fossil_hard_coal_actual[MWh]        float64\n",
      "Nuclear_actual[MWh]                 float64\n",
      "Other_conventional_actual[MWh]      float64\n",
      "Hydro_pumped_storage_actual[MWh]    float64\n",
      "Hydropower_actual[MWh]              float64\n",
      "Biomass_actual[MWh]                 float64\n",
      "Photovoltaics_actual[MWh]           float64\n",
      "Wind_onshore_actual[MWh]            float64\n",
      "Wind_offshore_actual[MWh]           float64\n",
      "Other_renewable_actual[MWh]         float64\n",
      "Photovoltaics_forecast[MWh]         float64\n",
      "Wind_onshore_forecast[MWh]          float64\n",
      "Wind_offshore_forecast[MWh]         float64\n",
      "Other_forecast[MWh]                 float64\n",
      "Date                                 object\n",
      "Month                                 int64\n",
      "Day_of_week                           int64\n",
      "Time                                  int64\n",
      "Weekend_with_holidays                 int64\n",
      "Seasons                               int64\n",
      "dtype: object\n"
     ]
    },
    {
     "data": {
      "text/html": [
       "<div>\n",
       "<style scoped>\n",
       "    .dataframe tbody tr th:only-of-type {\n",
       "        vertical-align: middle;\n",
       "    }\n",
       "\n",
       "    .dataframe tbody tr th {\n",
       "        vertical-align: top;\n",
       "    }\n",
       "\n",
       "    .dataframe thead th {\n",
       "        text-align: right;\n",
       "    }\n",
       "</style>\n",
       "<table border=\"1\" class=\"dataframe\">\n",
       "  <thead>\n",
       "    <tr style=\"text-align: right;\">\n",
       "      <th></th>\n",
       "      <th>Date_CET</th>\n",
       "      <th>Day-ahead[Euro/MWh]</th>\n",
       "      <th>Load_actual[MWh]</th>\n",
       "      <th>Load_forecast[MWh]</th>\n",
       "      <th>Fossil_gas_actual[MWh]</th>\n",
       "      <th>Fossil_brown_coal_actual[MWh]</th>\n",
       "      <th>Fossil_hard_coal_actual[MWh]</th>\n",
       "      <th>Nuclear_actual[MWh]</th>\n",
       "      <th>Other_conventional_actual[MWh]</th>\n",
       "      <th>Hydro_pumped_storage_actual[MWh]</th>\n",
       "      <th>Hydropower_actual[MWh]</th>\n",
       "      <th>Biomass_actual[MWh]</th>\n",
       "      <th>Photovoltaics_actual[MWh]</th>\n",
       "      <th>Wind_onshore_actual[MWh]</th>\n",
       "      <th>Wind_offshore_actual[MWh]</th>\n",
       "      <th>Other_renewable_actual[MWh]</th>\n",
       "      <th>Photovoltaics_forecast[MWh]</th>\n",
       "      <th>Wind_onshore_forecast[MWh]</th>\n",
       "      <th>Wind_offshore_forecast[MWh]</th>\n",
       "      <th>Other_forecast[MWh]</th>\n",
       "      <th>Date</th>\n",
       "      <th>Month</th>\n",
       "      <th>Day_of_week</th>\n",
       "      <th>Time</th>\n",
       "      <th>Weekend_with_holidays</th>\n",
       "      <th>Seasons</th>\n",
       "    </tr>\n",
       "  </thead>\n",
       "  <tbody>\n",
       "    <tr>\n",
       "      <th>0</th>\n",
       "      <td>2015-01-01 00:00:00+01:00</td>\n",
       "      <td>25.02</td>\n",
       "      <td>0.223536</td>\n",
       "      <td>0.283125</td>\n",
       "      <td>0.393846</td>\n",
       "      <td>0.508969</td>\n",
       "      <td>0.125403</td>\n",
       "      <td>0.893373</td>\n",
       "      <td>0.577126</td>\n",
       "      <td>0.567658</td>\n",
       "      <td>0.181682</td>\n",
       "      <td>0.198779</td>\n",
       "      <td>0.0</td>\n",
       "      <td>0.587724</td>\n",
       "      <td>0.331501</td>\n",
       "      <td>0.428571</td>\n",
       "      <td>0.0</td>\n",
       "      <td>0.578877</td>\n",
       "      <td>0.232431</td>\n",
       "      <td>0.461136</td>\n",
       "      <td>2015-01-01</td>\n",
       "      <td>1</td>\n",
       "      <td>3</td>\n",
       "      <td>0</td>\n",
       "      <td>1</td>\n",
       "      <td>3</td>\n",
       "    </tr>\n",
       "    <tr>\n",
       "      <th>1</th>\n",
       "      <td>2015-01-01 01:00:00+01:00</td>\n",
       "      <td>18.29</td>\n",
       "      <td>0.193462</td>\n",
       "      <td>0.236697</td>\n",
       "      <td>0.248136</td>\n",
       "      <td>0.474530</td>\n",
       "      <td>0.083590</td>\n",
       "      <td>0.946196</td>\n",
       "      <td>0.584182</td>\n",
       "      <td>0.486191</td>\n",
       "      <td>0.202566</td>\n",
       "      <td>0.179778</td>\n",
       "      <td>0.0</td>\n",
       "      <td>0.592219</td>\n",
       "      <td>0.331218</td>\n",
       "      <td>0.377551</td>\n",
       "      <td>0.0</td>\n",
       "      <td>0.592732</td>\n",
       "      <td>0.233109</td>\n",
       "      <td>0.433921</td>\n",
       "      <td>2015-01-01</td>\n",
       "      <td>1</td>\n",
       "      <td>3</td>\n",
       "      <td>1</td>\n",
       "      <td>1</td>\n",
       "      <td>3</td>\n",
       "    </tr>\n",
       "    <tr>\n",
       "      <th>2</th>\n",
       "      <td>2015-01-01 02:00:00+01:00</td>\n",
       "      <td>16.04</td>\n",
       "      <td>0.169196</td>\n",
       "      <td>0.212131</td>\n",
       "      <td>0.205872</td>\n",
       "      <td>0.429401</td>\n",
       "      <td>0.078345</td>\n",
       "      <td>0.937649</td>\n",
       "      <td>0.588437</td>\n",
       "      <td>0.430032</td>\n",
       "      <td>0.168627</td>\n",
       "      <td>0.196012</td>\n",
       "      <td>0.0</td>\n",
       "      <td>0.598508</td>\n",
       "      <td>0.330651</td>\n",
       "      <td>0.229592</td>\n",
       "      <td>0.0</td>\n",
       "      <td>0.596441</td>\n",
       "      <td>0.233109</td>\n",
       "      <td>0.410048</td>\n",
       "      <td>2015-01-01</td>\n",
       "      <td>1</td>\n",
       "      <td>3</td>\n",
       "      <td>2</td>\n",
       "      <td>1</td>\n",
       "      <td>3</td>\n",
       "    </tr>\n",
       "    <tr>\n",
       "      <th>3</th>\n",
       "      <td>2015-01-01 03:00:00+01:00</td>\n",
       "      <td>14.60</td>\n",
       "      <td>0.148753</td>\n",
       "      <td>0.205272</td>\n",
       "      <td>0.206357</td>\n",
       "      <td>0.369037</td>\n",
       "      <td>0.084913</td>\n",
       "      <td>0.938069</td>\n",
       "      <td>0.586918</td>\n",
       "      <td>0.236484</td>\n",
       "      <td>0.156775</td>\n",
       "      <td>0.206242</td>\n",
       "      <td>0.0</td>\n",
       "      <td>0.598711</td>\n",
       "      <td>0.332066</td>\n",
       "      <td>0.193878</td>\n",
       "      <td>0.0</td>\n",
       "      <td>0.598856</td>\n",
       "      <td>0.233109</td>\n",
       "      <td>0.379523</td>\n",
       "      <td>2015-01-01</td>\n",
       "      <td>1</td>\n",
       "      <td>3</td>\n",
       "      <td>3</td>\n",
       "      <td>1</td>\n",
       "      <td>3</td>\n",
       "    </tr>\n",
       "    <tr>\n",
       "      <th>4</th>\n",
       "      <td>2015-01-01 04:00:00+01:00</td>\n",
       "      <td>14.95</td>\n",
       "      <td>0.140692</td>\n",
       "      <td>0.208537</td>\n",
       "      <td>0.206841</td>\n",
       "      <td>0.371831</td>\n",
       "      <td>0.087560</td>\n",
       "      <td>0.928822</td>\n",
       "      <td>0.588025</td>\n",
       "      <td>0.300635</td>\n",
       "      <td>0.151140</td>\n",
       "      <td>0.204833</td>\n",
       "      <td>0.0</td>\n",
       "      <td>0.601095</td>\n",
       "      <td>0.332911</td>\n",
       "      <td>0.183673</td>\n",
       "      <td>0.0</td>\n",
       "      <td>0.603270</td>\n",
       "      <td>0.233671</td>\n",
       "      <td>0.377868</td>\n",
       "      <td>2015-01-01</td>\n",
       "      <td>1</td>\n",
       "      <td>3</td>\n",
       "      <td>4</td>\n",
       "      <td>1</td>\n",
       "      <td>3</td>\n",
       "    </tr>\n",
       "  </tbody>\n",
       "</table>\n",
       "</div>"
      ],
      "text/plain": [
       "                    Date_CET  Day-ahead[Euro/MWh]  Load_actual[MWh]  \\\n",
       "0  2015-01-01 00:00:00+01:00                25.02          0.223536   \n",
       "1  2015-01-01 01:00:00+01:00                18.29          0.193462   \n",
       "2  2015-01-01 02:00:00+01:00                16.04          0.169196   \n",
       "3  2015-01-01 03:00:00+01:00                14.60          0.148753   \n",
       "4  2015-01-01 04:00:00+01:00                14.95          0.140692   \n",
       "\n",
       "   Load_forecast[MWh]  Fossil_gas_actual[MWh]  Fossil_brown_coal_actual[MWh]  \\\n",
       "0            0.283125                0.393846                       0.508969   \n",
       "1            0.236697                0.248136                       0.474530   \n",
       "2            0.212131                0.205872                       0.429401   \n",
       "3            0.205272                0.206357                       0.369037   \n",
       "4            0.208537                0.206841                       0.371831   \n",
       "\n",
       "   Fossil_hard_coal_actual[MWh]  Nuclear_actual[MWh]  \\\n",
       "0                      0.125403             0.893373   \n",
       "1                      0.083590             0.946196   \n",
       "2                      0.078345             0.937649   \n",
       "3                      0.084913             0.938069   \n",
       "4                      0.087560             0.928822   \n",
       "\n",
       "   Other_conventional_actual[MWh]  Hydro_pumped_storage_actual[MWh]  \\\n",
       "0                        0.577126                          0.567658   \n",
       "1                        0.584182                          0.486191   \n",
       "2                        0.588437                          0.430032   \n",
       "3                        0.586918                          0.236484   \n",
       "4                        0.588025                          0.300635   \n",
       "\n",
       "   Hydropower_actual[MWh]  Biomass_actual[MWh]  Photovoltaics_actual[MWh]  \\\n",
       "0                0.181682             0.198779                        0.0   \n",
       "1                0.202566             0.179778                        0.0   \n",
       "2                0.168627             0.196012                        0.0   \n",
       "3                0.156775             0.206242                        0.0   \n",
       "4                0.151140             0.204833                        0.0   \n",
       "\n",
       "   Wind_onshore_actual[MWh]  Wind_offshore_actual[MWh]  \\\n",
       "0                  0.587724                   0.331501   \n",
       "1                  0.592219                   0.331218   \n",
       "2                  0.598508                   0.330651   \n",
       "3                  0.598711                   0.332066   \n",
       "4                  0.601095                   0.332911   \n",
       "\n",
       "   Other_renewable_actual[MWh]  Photovoltaics_forecast[MWh]  \\\n",
       "0                     0.428571                          0.0   \n",
       "1                     0.377551                          0.0   \n",
       "2                     0.229592                          0.0   \n",
       "3                     0.193878                          0.0   \n",
       "4                     0.183673                          0.0   \n",
       "\n",
       "   Wind_onshore_forecast[MWh]  Wind_offshore_forecast[MWh]  \\\n",
       "0                    0.578877                     0.232431   \n",
       "1                    0.592732                     0.233109   \n",
       "2                    0.596441                     0.233109   \n",
       "3                    0.598856                     0.233109   \n",
       "4                    0.603270                     0.233671   \n",
       "\n",
       "   Other_forecast[MWh]        Date  Month  Day_of_week  Time  \\\n",
       "0             0.461136  2015-01-01      1            3     0   \n",
       "1             0.433921  2015-01-01      1            3     1   \n",
       "2             0.410048  2015-01-01      1            3     2   \n",
       "3             0.379523  2015-01-01      1            3     3   \n",
       "4             0.377868  2015-01-01      1            3     4   \n",
       "\n",
       "   Weekend_with_holidays  Seasons  \n",
       "0                      1        3  \n",
       "1                      1        3  \n",
       "2                      1        3  \n",
       "3                      1        3  \n",
       "4                      1        3  "
      ]
     },
     "execution_count": 25,
     "metadata": {},
     "output_type": "execute_result"
    }
   ],
   "source": [
    "print(df_normalized_data_with_date.shape)\n",
    "print(df_normalized_data_with_date.dtypes)\n",
    "df_normalized_data_with_date.head()"
   ]
  },
  {
   "cell_type": "code",
   "execution_count": 26,
   "metadata": {},
   "outputs": [
    {
     "data": {
      "text/html": [
       "<div>\n",
       "<style scoped>\n",
       "    .dataframe tbody tr th:only-of-type {\n",
       "        vertical-align: middle;\n",
       "    }\n",
       "\n",
       "    .dataframe tbody tr th {\n",
       "        vertical-align: top;\n",
       "    }\n",
       "\n",
       "    .dataframe thead th {\n",
       "        text-align: right;\n",
       "    }\n",
       "</style>\n",
       "<table border=\"1\" class=\"dataframe\">\n",
       "  <thead>\n",
       "    <tr style=\"text-align: right;\">\n",
       "      <th></th>\n",
       "      <th>Date_CET</th>\n",
       "      <th>Day-ahead[Euro/MWh]</th>\n",
       "      <th>Load_actual[MWh]</th>\n",
       "      <th>Load_forecast[MWh]</th>\n",
       "      <th>Fossil_gas_actual[MWh]</th>\n",
       "      <th>Fossil_brown_coal_actual[MWh]</th>\n",
       "      <th>Fossil_hard_coal_actual[MWh]</th>\n",
       "      <th>Nuclear_actual[MWh]</th>\n",
       "      <th>Other_conventional_actual[MWh]</th>\n",
       "      <th>Hydro_pumped_storage_actual[MWh]</th>\n",
       "      <th>Hydropower_actual[MWh]</th>\n",
       "      <th>Biomass_actual[MWh]</th>\n",
       "      <th>Photovoltaics_actual[MWh]</th>\n",
       "      <th>Wind_onshore_actual[MWh]</th>\n",
       "      <th>Wind_offshore_actual[MWh]</th>\n",
       "      <th>Other_renewable_actual[MWh]</th>\n",
       "      <th>Photovoltaics_forecast[MWh]</th>\n",
       "      <th>Wind_onshore_forecast[MWh]</th>\n",
       "      <th>Wind_offshore_forecast[MWh]</th>\n",
       "      <th>Other_forecast[MWh]</th>\n",
       "      <th>Date</th>\n",
       "      <th>Month</th>\n",
       "      <th>Day_of_week</th>\n",
       "      <th>Time</th>\n",
       "      <th>Weekend_with_holidays</th>\n",
       "      <th>Seasons</th>\n",
       "    </tr>\n",
       "  </thead>\n",
       "  <tbody>\n",
       "    <tr>\n",
       "      <th>0</th>\n",
       "      <td>2015-01-01 00:00:00+01:00</td>\n",
       "      <td>25.02</td>\n",
       "      <td>-1.369105</td>\n",
       "      <td>-1.354341</td>\n",
       "      <td>-0.849546</td>\n",
       "      <td>0.439218</td>\n",
       "      <td>-1.041157</td>\n",
       "      <td>1.395948</td>\n",
       "      <td>0.541887</td>\n",
       "      <td>0.593371</td>\n",
       "      <td>-1.747319</td>\n",
       "      <td>-1.316276</td>\n",
       "      <td>-1.053717</td>\n",
       "      <td>0.167324</td>\n",
       "      <td>-0.849310</td>\n",
       "      <td>-0.453125</td>\n",
       "      <td>-1.06133</td>\n",
       "      <td>0.080495</td>\n",
       "      <td>-1.354076</td>\n",
       "      <td>-0.279063</td>\n",
       "      <td>2015-01-01</td>\n",
       "      <td>1</td>\n",
       "      <td>3</td>\n",
       "      <td>0</td>\n",
       "      <td>1</td>\n",
       "      <td>3</td>\n",
       "    </tr>\n",
       "    <tr>\n",
       "      <th>1</th>\n",
       "      <td>2015-01-01 01:00:00+01:00</td>\n",
       "      <td>18.29</td>\n",
       "      <td>-1.511960</td>\n",
       "      <td>-1.584673</td>\n",
       "      <td>-1.609962</td>\n",
       "      <td>0.261060</td>\n",
       "      <td>-1.212162</td>\n",
       "      <td>1.654910</td>\n",
       "      <td>0.583124</td>\n",
       "      <td>0.194055</td>\n",
       "      <td>-1.636335</td>\n",
       "      <td>-1.398474</td>\n",
       "      <td>-1.053717</td>\n",
       "      <td>0.191229</td>\n",
       "      <td>-0.850609</td>\n",
       "      <td>-0.708165</td>\n",
       "      <td>-1.06133</td>\n",
       "      <td>0.154065</td>\n",
       "      <td>-1.350967</td>\n",
       "      <td>-0.429549</td>\n",
       "      <td>2015-01-01</td>\n",
       "      <td>1</td>\n",
       "      <td>3</td>\n",
       "      <td>1</td>\n",
       "      <td>1</td>\n",
       "      <td>3</td>\n",
       "    </tr>\n",
       "    <tr>\n",
       "      <th>2</th>\n",
       "      <td>2015-01-01 02:00:00+01:00</td>\n",
       "      <td>16.04</td>\n",
       "      <td>-1.627227</td>\n",
       "      <td>-1.706543</td>\n",
       "      <td>-1.830526</td>\n",
       "      <td>0.027594</td>\n",
       "      <td>-1.233613</td>\n",
       "      <td>1.613009</td>\n",
       "      <td>0.607992</td>\n",
       "      <td>-0.081215</td>\n",
       "      <td>-1.816698</td>\n",
       "      <td>-1.328243</td>\n",
       "      <td>-1.053717</td>\n",
       "      <td>0.224679</td>\n",
       "      <td>-0.853212</td>\n",
       "      <td>-1.447781</td>\n",
       "      <td>-1.06133</td>\n",
       "      <td>0.173757</td>\n",
       "      <td>-1.350967</td>\n",
       "      <td>-0.561550</td>\n",
       "      <td>2015-01-01</td>\n",
       "      <td>1</td>\n",
       "      <td>3</td>\n",
       "      <td>2</td>\n",
       "      <td>1</td>\n",
       "      <td>3</td>\n",
       "    </tr>\n",
       "    <tr>\n",
       "      <th>3</th>\n",
       "      <td>2015-01-01 03:00:00+01:00</td>\n",
       "      <td>14.60</td>\n",
       "      <td>-1.724334</td>\n",
       "      <td>-1.740572</td>\n",
       "      <td>-1.827996</td>\n",
       "      <td>-0.284682</td>\n",
       "      <td>-1.206749</td>\n",
       "      <td>1.615070</td>\n",
       "      <td>0.599119</td>\n",
       "      <td>-1.029911</td>\n",
       "      <td>-1.879682</td>\n",
       "      <td>-1.283992</td>\n",
       "      <td>-1.053717</td>\n",
       "      <td>0.225763</td>\n",
       "      <td>-0.846715</td>\n",
       "      <td>-1.626308</td>\n",
       "      <td>-1.06133</td>\n",
       "      <td>0.186581</td>\n",
       "      <td>-1.350967</td>\n",
       "      <td>-0.730333</td>\n",
       "      <td>2015-01-01</td>\n",
       "      <td>1</td>\n",
       "      <td>3</td>\n",
       "      <td>3</td>\n",
       "      <td>1</td>\n",
       "      <td>3</td>\n",
       "    </tr>\n",
       "    <tr>\n",
       "      <th>4</th>\n",
       "      <td>2015-01-01 04:00:00+01:00</td>\n",
       "      <td>14.95</td>\n",
       "      <td>-1.762623</td>\n",
       "      <td>-1.724374</td>\n",
       "      <td>-1.825471</td>\n",
       "      <td>-0.270226</td>\n",
       "      <td>-1.195924</td>\n",
       "      <td>1.569734</td>\n",
       "      <td>0.605584</td>\n",
       "      <td>-0.715469</td>\n",
       "      <td>-1.909625</td>\n",
       "      <td>-1.290086</td>\n",
       "      <td>-1.053717</td>\n",
       "      <td>0.238440</td>\n",
       "      <td>-0.842835</td>\n",
       "      <td>-1.677316</td>\n",
       "      <td>-1.06133</td>\n",
       "      <td>0.210017</td>\n",
       "      <td>-1.348385</td>\n",
       "      <td>-0.739482</td>\n",
       "      <td>2015-01-01</td>\n",
       "      <td>1</td>\n",
       "      <td>3</td>\n",
       "      <td>4</td>\n",
       "      <td>1</td>\n",
       "      <td>3</td>\n",
       "    </tr>\n",
       "  </tbody>\n",
       "</table>\n",
       "</div>"
      ],
      "text/plain": [
       "                    Date_CET  Day-ahead[Euro/MWh]  Load_actual[MWh]  \\\n",
       "0  2015-01-01 00:00:00+01:00                25.02         -1.369105   \n",
       "1  2015-01-01 01:00:00+01:00                18.29         -1.511960   \n",
       "2  2015-01-01 02:00:00+01:00                16.04         -1.627227   \n",
       "3  2015-01-01 03:00:00+01:00                14.60         -1.724334   \n",
       "4  2015-01-01 04:00:00+01:00                14.95         -1.762623   \n",
       "\n",
       "   Load_forecast[MWh]  Fossil_gas_actual[MWh]  Fossil_brown_coal_actual[MWh]  \\\n",
       "0           -1.354341               -0.849546                       0.439218   \n",
       "1           -1.584673               -1.609962                       0.261060   \n",
       "2           -1.706543               -1.830526                       0.027594   \n",
       "3           -1.740572               -1.827996                      -0.284682   \n",
       "4           -1.724374               -1.825471                      -0.270226   \n",
       "\n",
       "   Fossil_hard_coal_actual[MWh]  Nuclear_actual[MWh]  \\\n",
       "0                     -1.041157             1.395948   \n",
       "1                     -1.212162             1.654910   \n",
       "2                     -1.233613             1.613009   \n",
       "3                     -1.206749             1.615070   \n",
       "4                     -1.195924             1.569734   \n",
       "\n",
       "   Other_conventional_actual[MWh]  Hydro_pumped_storage_actual[MWh]  \\\n",
       "0                        0.541887                          0.593371   \n",
       "1                        0.583124                          0.194055   \n",
       "2                        0.607992                         -0.081215   \n",
       "3                        0.599119                         -1.029911   \n",
       "4                        0.605584                         -0.715469   \n",
       "\n",
       "   Hydropower_actual[MWh]  Biomass_actual[MWh]  Photovoltaics_actual[MWh]  \\\n",
       "0               -1.747319            -1.316276                  -1.053717   \n",
       "1               -1.636335            -1.398474                  -1.053717   \n",
       "2               -1.816698            -1.328243                  -1.053717   \n",
       "3               -1.879682            -1.283992                  -1.053717   \n",
       "4               -1.909625            -1.290086                  -1.053717   \n",
       "\n",
       "   Wind_onshore_actual[MWh]  Wind_offshore_actual[MWh]  \\\n",
       "0                  0.167324                  -0.849310   \n",
       "1                  0.191229                  -0.850609   \n",
       "2                  0.224679                  -0.853212   \n",
       "3                  0.225763                  -0.846715   \n",
       "4                  0.238440                  -0.842835   \n",
       "\n",
       "   Other_renewable_actual[MWh]  Photovoltaics_forecast[MWh]  \\\n",
       "0                    -0.453125                     -1.06133   \n",
       "1                    -0.708165                     -1.06133   \n",
       "2                    -1.447781                     -1.06133   \n",
       "3                    -1.626308                     -1.06133   \n",
       "4                    -1.677316                     -1.06133   \n",
       "\n",
       "   Wind_onshore_forecast[MWh]  Wind_offshore_forecast[MWh]  \\\n",
       "0                    0.080495                    -1.354076   \n",
       "1                    0.154065                    -1.350967   \n",
       "2                    0.173757                    -1.350967   \n",
       "3                    0.186581                    -1.350967   \n",
       "4                    0.210017                    -1.348385   \n",
       "\n",
       "   Other_forecast[MWh]        Date  Month  Day_of_week  Time  \\\n",
       "0            -0.279063  2015-01-01      1            3     0   \n",
       "1            -0.429549  2015-01-01      1            3     1   \n",
       "2            -0.561550  2015-01-01      1            3     2   \n",
       "3            -0.730333  2015-01-01      1            3     3   \n",
       "4            -0.739482  2015-01-01      1            3     4   \n",
       "\n",
       "   Weekend_with_holidays  Seasons  \n",
       "0                      1        3  \n",
       "1                      1        3  \n",
       "2                      1        3  \n",
       "3                      1        3  \n",
       "4                      1        3  "
      ]
     },
     "execution_count": 26,
     "metadata": {},
     "output_type": "execute_result"
    }
   ],
   "source": [
    "df_standardized_data_with_date.head()"
   ]
  },
  {
   "cell_type": "code",
   "execution_count": 27,
   "metadata": {},
   "outputs": [],
   "source": [
    "# Splits into training data and test data\n",
    "nor_train, nor_test = train_test_split(df_normalized_data_with_date, test_size=0.2, random_state=0)\n",
    "sta_train, sta_test = train_test_split(df_standardized_data_with_date, test_size=0.2, random_state=0)"
   ]
  },
  {
   "cell_type": "code",
   "execution_count": 28,
   "metadata": {},
   "outputs": [],
   "source": [
    "# Creates independent variables lists\n",
    "new_all_list = list(sta_train)\n",
    "new_all_list.remove('Date_CET')\n",
    "new_all_list.remove('Date')\n",
    "new_all_list.remove('Day-ahead[Euro/MWh]')"
   ]
  },
  {
   "cell_type": "code",
   "execution_count": 29,
   "metadata": {},
   "outputs": [],
   "source": [
    "# Test data of independent variables\n",
    "X_test_nor = nor_test[new_all_list]\n",
    "X_test_sta = sta_test[new_all_list]\n",
    "\n",
    "# Test data of dependent variable\n",
    "y_test_nor = nor_test['Day-ahead[Euro/MWh]']\n",
    "y_test_sta = sta_test['Day-ahead[Euro/MWh]']\n",
    "\n",
    "# Training data of independent variables\n",
    "X_nor = nor_train[new_all_list]\n",
    "X_sta = sta_train[new_all_list]\n",
    "\n",
    "# Training data of dependent variable\n",
    "y_nor = nor_train['Day-ahead[Euro/MWh]']\n",
    "y_sta = sta_train['Day-ahead[Euro/MWh]']"
   ]
  },
  {
   "cell_type": "code",
   "execution_count": 30,
   "metadata": {},
   "outputs": [
    {
     "name": "stdout",
     "output_type": "stream",
     "text": [
      "X_test_nor: (8529, 23)\n",
      "X_test_sta: (8529, 23)\n",
      "y_test_nor: (8529,)\n",
      "y_test_sta: (8529,)\n",
      "X_nor: (34114, 23)\n",
      "X_sta: (34114, 23)\n",
      "y_nor: (34114,)\n",
      "y_sta: (34114,)\n"
     ]
    }
   ],
   "source": [
    "print('X_test_nor:',X_test_nor.shape)\n",
    "print('X_test_sta:',X_test_sta.shape)\n",
    "print('y_test_nor:',y_test_nor.shape)\n",
    "print('y_test_sta:',y_test_sta.shape)\n",
    "print('X_nor:',X_nor.shape)\n",
    "print('X_sta:',X_sta.shape)\n",
    "print('y_nor:',y_nor.shape)\n",
    "print('y_sta:',y_sta.shape)"
   ]
  },
  {
   "cell_type": "code",
   "execution_count": 31,
   "metadata": {},
   "outputs": [
    {
     "data": {
      "text/plain": [
       "Load_actual[MWh]                    float64\n",
       "Load_forecast[MWh]                  float64\n",
       "Fossil_gas_actual[MWh]              float64\n",
       "Fossil_brown_coal_actual[MWh]       float64\n",
       "Fossil_hard_coal_actual[MWh]        float64\n",
       "Nuclear_actual[MWh]                 float64\n",
       "Other_conventional_actual[MWh]      float64\n",
       "Hydro_pumped_storage_actual[MWh]    float64\n",
       "Hydropower_actual[MWh]              float64\n",
       "Biomass_actual[MWh]                 float64\n",
       "Photovoltaics_actual[MWh]           float64\n",
       "Wind_onshore_actual[MWh]            float64\n",
       "Wind_offshore_actual[MWh]           float64\n",
       "Other_renewable_actual[MWh]         float64\n",
       "Photovoltaics_forecast[MWh]         float64\n",
       "Wind_onshore_forecast[MWh]          float64\n",
       "Wind_offshore_forecast[MWh]         float64\n",
       "Other_forecast[MWh]                 float64\n",
       "Month                                 int64\n",
       "Day_of_week                           int64\n",
       "Time                                  int64\n",
       "Weekend_with_holidays                 int64\n",
       "Seasons                               int64\n",
       "dtype: object"
      ]
     },
     "execution_count": 31,
     "metadata": {},
     "output_type": "execute_result"
    }
   ],
   "source": [
    "X_sta.dtypes"
   ]
  },
  {
   "cell_type": "markdown",
   "metadata": {},
   "source": [
    "# Feature selection "
   ]
  },
  {
   "cell_type": "code",
   "execution_count": 32,
   "metadata": {},
   "outputs": [
    {
     "data": {
      "text/html": [
       "<div>\n",
       "<style scoped>\n",
       "    .dataframe tbody tr th:only-of-type {\n",
       "        vertical-align: middle;\n",
       "    }\n",
       "\n",
       "    .dataframe tbody tr th {\n",
       "        vertical-align: top;\n",
       "    }\n",
       "\n",
       "    .dataframe thead th {\n",
       "        text-align: right;\n",
       "    }\n",
       "</style>\n",
       "<table border=\"1\" class=\"dataframe\">\n",
       "  <thead>\n",
       "    <tr style=\"text-align: right;\">\n",
       "      <th></th>\n",
       "      <th>features</th>\n",
       "      <th>VIF Factor</th>\n",
       "    </tr>\n",
       "  </thead>\n",
       "  <tbody>\n",
       "    <tr>\n",
       "      <th>0</th>\n",
       "      <td>Load_actual[MWh]</td>\n",
       "      <td>31.06</td>\n",
       "    </tr>\n",
       "    <tr>\n",
       "      <th>1</th>\n",
       "      <td>Load_forecast[MWh]</td>\n",
       "      <td>31.00</td>\n",
       "    </tr>\n",
       "    <tr>\n",
       "      <th>2</th>\n",
       "      <td>Fossil_gas_actual[MWh]</td>\n",
       "      <td>3.10</td>\n",
       "    </tr>\n",
       "    <tr>\n",
       "      <th>3</th>\n",
       "      <td>Fossil_brown_coal_actual[MWh]</td>\n",
       "      <td>2.71</td>\n",
       "    </tr>\n",
       "    <tr>\n",
       "      <th>4</th>\n",
       "      <td>Fossil_hard_coal_actual[MWh]</td>\n",
       "      <td>5.82</td>\n",
       "    </tr>\n",
       "    <tr>\n",
       "      <th>5</th>\n",
       "      <td>Nuclear_actual[MWh]</td>\n",
       "      <td>2.00</td>\n",
       "    </tr>\n",
       "    <tr>\n",
       "      <th>6</th>\n",
       "      <td>Other_conventional_actual[MWh]</td>\n",
       "      <td>2.80</td>\n",
       "    </tr>\n",
       "    <tr>\n",
       "      <th>7</th>\n",
       "      <td>Hydro_pumped_storage_actual[MWh]</td>\n",
       "      <td>1.65</td>\n",
       "    </tr>\n",
       "    <tr>\n",
       "      <th>8</th>\n",
       "      <td>Hydropower_actual[MWh]</td>\n",
       "      <td>1.66</td>\n",
       "    </tr>\n",
       "    <tr>\n",
       "      <th>9</th>\n",
       "      <td>Biomass_actual[MWh]</td>\n",
       "      <td>2.63</td>\n",
       "    </tr>\n",
       "    <tr>\n",
       "      <th>10</th>\n",
       "      <td>Photovoltaics_actual[MWh]</td>\n",
       "      <td>277.13</td>\n",
       "    </tr>\n",
       "    <tr>\n",
       "      <th>11</th>\n",
       "      <td>Wind_onshore_actual[MWh]</td>\n",
       "      <td>27.24</td>\n",
       "    </tr>\n",
       "    <tr>\n",
       "      <th>12</th>\n",
       "      <td>Wind_offshore_actual[MWh]</td>\n",
       "      <td>14.46</td>\n",
       "    </tr>\n",
       "    <tr>\n",
       "      <th>13</th>\n",
       "      <td>Other_renewable_actual[MWh]</td>\n",
       "      <td>2.13</td>\n",
       "    </tr>\n",
       "    <tr>\n",
       "      <th>14</th>\n",
       "      <td>Photovoltaics_forecast[MWh]</td>\n",
       "      <td>277.77</td>\n",
       "    </tr>\n",
       "    <tr>\n",
       "      <th>15</th>\n",
       "      <td>Wind_onshore_forecast[MWh]</td>\n",
       "      <td>28.71</td>\n",
       "    </tr>\n",
       "    <tr>\n",
       "      <th>16</th>\n",
       "      <td>Wind_offshore_forecast[MWh]</td>\n",
       "      <td>16.27</td>\n",
       "    </tr>\n",
       "    <tr>\n",
       "      <th>17</th>\n",
       "      <td>Other_forecast[MWh]</td>\n",
       "      <td>17.23</td>\n",
       "    </tr>\n",
       "    <tr>\n",
       "      <th>18</th>\n",
       "      <td>Month</td>\n",
       "      <td>5.31</td>\n",
       "    </tr>\n",
       "    <tr>\n",
       "      <th>19</th>\n",
       "      <td>Day_of_week</td>\n",
       "      <td>6.09</td>\n",
       "    </tr>\n",
       "    <tr>\n",
       "      <th>20</th>\n",
       "      <td>Time</td>\n",
       "      <td>4.26</td>\n",
       "    </tr>\n",
       "    <tr>\n",
       "      <th>21</th>\n",
       "      <td>Weekend_with_holidays</td>\n",
       "      <td>4.83</td>\n",
       "    </tr>\n",
       "    <tr>\n",
       "      <th>22</th>\n",
       "      <td>Seasons</td>\n",
       "      <td>5.15</td>\n",
       "    </tr>\n",
       "  </tbody>\n",
       "</table>\n",
       "</div>"
      ],
      "text/plain": [
       "                            features  VIF Factor\n",
       "0                   Load_actual[MWh]       31.06\n",
       "1                 Load_forecast[MWh]       31.00\n",
       "2             Fossil_gas_actual[MWh]        3.10\n",
       "3      Fossil_brown_coal_actual[MWh]        2.71\n",
       "4       Fossil_hard_coal_actual[MWh]        5.82\n",
       "5                Nuclear_actual[MWh]        2.00\n",
       "6     Other_conventional_actual[MWh]        2.80\n",
       "7   Hydro_pumped_storage_actual[MWh]        1.65\n",
       "8             Hydropower_actual[MWh]        1.66\n",
       "9                Biomass_actual[MWh]        2.63\n",
       "10         Photovoltaics_actual[MWh]      277.13\n",
       "11          Wind_onshore_actual[MWh]       27.24\n",
       "12         Wind_offshore_actual[MWh]       14.46\n",
       "13       Other_renewable_actual[MWh]        2.13\n",
       "14       Photovoltaics_forecast[MWh]      277.77\n",
       "15        Wind_onshore_forecast[MWh]       28.71\n",
       "16       Wind_offshore_forecast[MWh]       16.27\n",
       "17               Other_forecast[MWh]       17.23\n",
       "18                             Month        5.31\n",
       "19                       Day_of_week        6.09\n",
       "20                              Time        4.26\n",
       "21             Weekend_with_holidays        4.83\n",
       "22                           Seasons        5.15"
      ]
     },
     "execution_count": 32,
     "metadata": {},
     "output_type": "execute_result"
    }
   ],
   "source": [
    "# Variance Inflation Factor (VIF)\n",
    "# If 10 > VIF, it could be multicollineariy\n",
    "vif = pd.DataFrame()\n",
    "vif[\"features\"] = X_sta.columns\n",
    "vif[\"VIF Factor\"] = [round(variance_inflation_factor(X_sta.values, i),2) for i in range(X_sta.shape[1])]\n",
    "vif"
   ]
  },
  {
   "cell_type": "code",
   "execution_count": 33,
   "metadata": {},
   "outputs": [],
   "source": [
    "# Creates list of droppig features as background knowledge \n",
    "# If forecast data exists, the actual data removes\n",
    "remove_list = list(['Load_actual[MWh]','Photovoltaics_actual[MWh]', 'Wind_onshore_actual[MWh]',\n",
    "                    'Wind_offshore_actual[MWh]', 'Other_renewable_actual[MWh]'])"
   ]
  },
  {
   "cell_type": "code",
   "execution_count": 34,
   "metadata": {},
   "outputs": [
    {
     "data": {
      "text/html": [
       "<div>\n",
       "<style scoped>\n",
       "    .dataframe tbody tr th:only-of-type {\n",
       "        vertical-align: middle;\n",
       "    }\n",
       "\n",
       "    .dataframe tbody tr th {\n",
       "        vertical-align: top;\n",
       "    }\n",
       "\n",
       "    .dataframe thead th {\n",
       "        text-align: right;\n",
       "    }\n",
       "</style>\n",
       "<table border=\"1\" class=\"dataframe\">\n",
       "  <thead>\n",
       "    <tr style=\"text-align: right;\">\n",
       "      <th></th>\n",
       "      <th>features</th>\n",
       "      <th>VIF Factor</th>\n",
       "    </tr>\n",
       "  </thead>\n",
       "  <tbody>\n",
       "    <tr>\n",
       "      <th>0</th>\n",
       "      <td>Load_forecast[MWh]</td>\n",
       "      <td>9.29</td>\n",
       "    </tr>\n",
       "    <tr>\n",
       "      <th>1</th>\n",
       "      <td>Fossil_gas_actual[MWh]</td>\n",
       "      <td>3.03</td>\n",
       "    </tr>\n",
       "    <tr>\n",
       "      <th>2</th>\n",
       "      <td>Fossil_brown_coal_actual[MWh]</td>\n",
       "      <td>2.60</td>\n",
       "    </tr>\n",
       "    <tr>\n",
       "      <th>3</th>\n",
       "      <td>Fossil_hard_coal_actual[MWh]</td>\n",
       "      <td>5.33</td>\n",
       "    </tr>\n",
       "    <tr>\n",
       "      <th>4</th>\n",
       "      <td>Nuclear_actual[MWh]</td>\n",
       "      <td>1.92</td>\n",
       "    </tr>\n",
       "    <tr>\n",
       "      <th>5</th>\n",
       "      <td>Other_conventional_actual[MWh]</td>\n",
       "      <td>2.73</td>\n",
       "    </tr>\n",
       "    <tr>\n",
       "      <th>6</th>\n",
       "      <td>Hydro_pumped_storage_actual[MWh]</td>\n",
       "      <td>1.60</td>\n",
       "    </tr>\n",
       "    <tr>\n",
       "      <th>7</th>\n",
       "      <td>Hydropower_actual[MWh]</td>\n",
       "      <td>1.60</td>\n",
       "    </tr>\n",
       "    <tr>\n",
       "      <th>8</th>\n",
       "      <td>Biomass_actual[MWh]</td>\n",
       "      <td>1.80</td>\n",
       "    </tr>\n",
       "    <tr>\n",
       "      <th>9</th>\n",
       "      <td>Photovoltaics_forecast[MWh]</td>\n",
       "      <td>2.73</td>\n",
       "    </tr>\n",
       "    <tr>\n",
       "      <th>10</th>\n",
       "      <td>Wind_onshore_forecast[MWh]</td>\n",
       "      <td>3.66</td>\n",
       "    </tr>\n",
       "    <tr>\n",
       "      <th>11</th>\n",
       "      <td>Wind_offshore_forecast[MWh]</td>\n",
       "      <td>2.64</td>\n",
       "    </tr>\n",
       "    <tr>\n",
       "      <th>12</th>\n",
       "      <td>Other_forecast[MWh]</td>\n",
       "      <td>16.34</td>\n",
       "    </tr>\n",
       "    <tr>\n",
       "      <th>13</th>\n",
       "      <td>Month</td>\n",
       "      <td>5.28</td>\n",
       "    </tr>\n",
       "    <tr>\n",
       "      <th>14</th>\n",
       "      <td>Day_of_week</td>\n",
       "      <td>6.06</td>\n",
       "    </tr>\n",
       "    <tr>\n",
       "      <th>15</th>\n",
       "      <td>Time</td>\n",
       "      <td>4.22</td>\n",
       "    </tr>\n",
       "    <tr>\n",
       "      <th>16</th>\n",
       "      <td>Weekend_with_holidays</td>\n",
       "      <td>4.76</td>\n",
       "    </tr>\n",
       "    <tr>\n",
       "      <th>17</th>\n",
       "      <td>Seasons</td>\n",
       "      <td>5.13</td>\n",
       "    </tr>\n",
       "  </tbody>\n",
       "</table>\n",
       "</div>"
      ],
      "text/plain": [
       "                            features  VIF Factor\n",
       "0                 Load_forecast[MWh]        9.29\n",
       "1             Fossil_gas_actual[MWh]        3.03\n",
       "2      Fossil_brown_coal_actual[MWh]        2.60\n",
       "3       Fossil_hard_coal_actual[MWh]        5.33\n",
       "4                Nuclear_actual[MWh]        1.92\n",
       "5     Other_conventional_actual[MWh]        2.73\n",
       "6   Hydro_pumped_storage_actual[MWh]        1.60\n",
       "7             Hydropower_actual[MWh]        1.60\n",
       "8                Biomass_actual[MWh]        1.80\n",
       "9        Photovoltaics_forecast[MWh]        2.73\n",
       "10        Wind_onshore_forecast[MWh]        3.66\n",
       "11       Wind_offshore_forecast[MWh]        2.64\n",
       "12               Other_forecast[MWh]       16.34\n",
       "13                             Month        5.28\n",
       "14                       Day_of_week        6.06\n",
       "15                              Time        4.22\n",
       "16             Weekend_with_holidays        4.76\n",
       "17                           Seasons        5.13"
      ]
     },
     "execution_count": 34,
     "metadata": {},
     "output_type": "execute_result"
    }
   ],
   "source": [
    "# Shows VIF without above remove_list features\n",
    "vif = pd.DataFrame()\n",
    "vif[\"features\"] = X_sta.drop(remove_list,axis=1).columns\n",
    "vif[\"VIF Factor\"] = [round(variance_inflation_factor(X_sta.drop(remove_list,axis=1).values, i),2) for i in range(X_sta.drop(remove_list,axis=1).shape[1])]\n",
    "vif"
   ]
  },
  {
   "cell_type": "code",
   "execution_count": 35,
   "metadata": {},
   "outputs": [],
   "source": [
    "remove_list2 = list(['Load_actual[MWh]','Photovoltaics_actual[MWh]', 'Wind_onshore_actual[MWh]',\n",
    "                    'Wind_offshore_actual[MWh]', 'Other_renewable_actual[MWh]','Other_forecast[MWh]'])"
   ]
  },
  {
   "cell_type": "code",
   "execution_count": 36,
   "metadata": {},
   "outputs": [
    {
     "data": {
      "text/html": [
       "<div>\n",
       "<style scoped>\n",
       "    .dataframe tbody tr th:only-of-type {\n",
       "        vertical-align: middle;\n",
       "    }\n",
       "\n",
       "    .dataframe tbody tr th {\n",
       "        vertical-align: top;\n",
       "    }\n",
       "\n",
       "    .dataframe thead th {\n",
       "        text-align: right;\n",
       "    }\n",
       "</style>\n",
       "<table border=\"1\" class=\"dataframe\">\n",
       "  <thead>\n",
       "    <tr style=\"text-align: right;\">\n",
       "      <th></th>\n",
       "      <th>features</th>\n",
       "      <th>VIF Factor</th>\n",
       "    </tr>\n",
       "  </thead>\n",
       "  <tbody>\n",
       "    <tr>\n",
       "      <th>0</th>\n",
       "      <td>Load_forecast[MWh]</td>\n",
       "      <td>6.10</td>\n",
       "    </tr>\n",
       "    <tr>\n",
       "      <th>1</th>\n",
       "      <td>Fossil_gas_actual[MWh]</td>\n",
       "      <td>2.97</td>\n",
       "    </tr>\n",
       "    <tr>\n",
       "      <th>2</th>\n",
       "      <td>Fossil_brown_coal_actual[MWh]</td>\n",
       "      <td>2.26</td>\n",
       "    </tr>\n",
       "    <tr>\n",
       "      <th>3</th>\n",
       "      <td>Fossil_hard_coal_actual[MWh]</td>\n",
       "      <td>3.75</td>\n",
       "    </tr>\n",
       "    <tr>\n",
       "      <th>4</th>\n",
       "      <td>Nuclear_actual[MWh]</td>\n",
       "      <td>1.46</td>\n",
       "    </tr>\n",
       "    <tr>\n",
       "      <th>5</th>\n",
       "      <td>Other_conventional_actual[MWh]</td>\n",
       "      <td>2.29</td>\n",
       "    </tr>\n",
       "    <tr>\n",
       "      <th>6</th>\n",
       "      <td>Hydro_pumped_storage_actual[MWh]</td>\n",
       "      <td>1.59</td>\n",
       "    </tr>\n",
       "    <tr>\n",
       "      <th>7</th>\n",
       "      <td>Hydropower_actual[MWh]</td>\n",
       "      <td>1.60</td>\n",
       "    </tr>\n",
       "    <tr>\n",
       "      <th>8</th>\n",
       "      <td>Biomass_actual[MWh]</td>\n",
       "      <td>1.79</td>\n",
       "    </tr>\n",
       "    <tr>\n",
       "      <th>9</th>\n",
       "      <td>Photovoltaics_forecast[MWh]</td>\n",
       "      <td>2.67</td>\n",
       "    </tr>\n",
       "    <tr>\n",
       "      <th>10</th>\n",
       "      <td>Wind_onshore_forecast[MWh]</td>\n",
       "      <td>3.43</td>\n",
       "    </tr>\n",
       "    <tr>\n",
       "      <th>11</th>\n",
       "      <td>Wind_offshore_forecast[MWh]</td>\n",
       "      <td>2.63</td>\n",
       "    </tr>\n",
       "    <tr>\n",
       "      <th>12</th>\n",
       "      <td>Month</td>\n",
       "      <td>5.18</td>\n",
       "    </tr>\n",
       "    <tr>\n",
       "      <th>13</th>\n",
       "      <td>Day_of_week</td>\n",
       "      <td>6.05</td>\n",
       "    </tr>\n",
       "    <tr>\n",
       "      <th>14</th>\n",
       "      <td>Time</td>\n",
       "      <td>4.18</td>\n",
       "    </tr>\n",
       "    <tr>\n",
       "      <th>15</th>\n",
       "      <td>Weekend_with_holidays</td>\n",
       "      <td>4.74</td>\n",
       "    </tr>\n",
       "    <tr>\n",
       "      <th>16</th>\n",
       "      <td>Seasons</td>\n",
       "      <td>5.12</td>\n",
       "    </tr>\n",
       "  </tbody>\n",
       "</table>\n",
       "</div>"
      ],
      "text/plain": [
       "                            features  VIF Factor\n",
       "0                 Load_forecast[MWh]        6.10\n",
       "1             Fossil_gas_actual[MWh]        2.97\n",
       "2      Fossil_brown_coal_actual[MWh]        2.26\n",
       "3       Fossil_hard_coal_actual[MWh]        3.75\n",
       "4                Nuclear_actual[MWh]        1.46\n",
       "5     Other_conventional_actual[MWh]        2.29\n",
       "6   Hydro_pumped_storage_actual[MWh]        1.59\n",
       "7             Hydropower_actual[MWh]        1.60\n",
       "8                Biomass_actual[MWh]        1.79\n",
       "9        Photovoltaics_forecast[MWh]        2.67\n",
       "10        Wind_onshore_forecast[MWh]        3.43\n",
       "11       Wind_offshore_forecast[MWh]        2.63\n",
       "12                             Month        5.18\n",
       "13                       Day_of_week        6.05\n",
       "14                              Time        4.18\n",
       "15             Weekend_with_holidays        4.74\n",
       "16                           Seasons        5.12"
      ]
     },
     "execution_count": 36,
     "metadata": {},
     "output_type": "execute_result"
    }
   ],
   "source": [
    "# Shows VIF without above remove_list2 features\n",
    "vif = pd.DataFrame()\n",
    "vif[\"features\"] = X_sta.drop(remove_list2,axis=1).columns\n",
    "vif[\"VIF Factor\"] = [round(variance_inflation_factor(X_sta.drop(remove_list2,axis=1).values, i),2) for i in range(X_sta.drop(remove_list2,axis=1).shape[1])]\n",
    "vif"
   ]
  },
  {
   "cell_type": "markdown",
   "metadata": {},
   "source": [
    "# Applying machine learning models"
   ]
  },
  {
   "cell_type": "code",
   "execution_count": 37,
   "metadata": {},
   "outputs": [],
   "source": [
    "# Calculate ML model's Evaluation\n",
    "def model_score(X,y,model):\n",
    "    kf = KFold(n_splits=5, shuffle=True, random_state=0)\n",
    "    score_adjusted_r2 = []\n",
    "    score_rmse = []\n",
    "    for train_index, val_index in kf.split(X):\n",
    "        X_train_fold, X_val_fold = X.iloc[train_index], X.iloc[val_index]\n",
    "        y_train_fold, y_val_fold = y.iloc[train_index], y.iloc[val_index]\n",
    "        model.fit(X_train_fold, y_train_fold)\n",
    "        y_pred = model.predict(X_val_fold)\n",
    "        r2_score_result = r2_score(y_val_fold, y_pred)\n",
    "        adjusted_r2_score_result = 1 - (1-r2_score_result)*(len(y_val_fold)-1)/(len(y_val_fold)-X_train_fold.shape[1]-1)\n",
    "        rmse_score_result = np.sqrt(mean_squared_error(y_val_fold, y_pred))\n",
    "        score_adjusted_r2.append(adjusted_r2_score_result)\n",
    "        score_rmse.append(rmse_score_result)\n",
    "    avg_adjusted_r2_score = round(np.mean(score_adjusted_r2),4)\n",
    "    avg_rmse_score = round(np.mean(score_rmse),4)\n",
    "    print('Adj_R^2:', avg_adjusted_r2_score, '\\nRMSE:', avg_rmse_score)"
   ]
  },
  {
   "cell_type": "markdown",
   "metadata": {},
   "source": [
    "## Linear regression"
   ]
  },
  {
   "cell_type": "code",
   "execution_count": 38,
   "metadata": {},
   "outputs": [
    {
     "name": "stdout",
     "output_type": "stream",
     "text": [
      "-----Normalization-----\n",
      "Adj_R^2: 0.6682 \n",
      "RMSE: 9.2693\n",
      "-----Standardization-----\n",
      "Adj_R^2: 0.6682 \n",
      "RMSE: 9.2693\n",
      "CPU times: user 461 ms, sys: 29.3 ms, total: 490 ms\n",
      "Wall time: 277 ms\n"
     ]
    }
   ],
   "source": [
    "%%time\n",
    "# Apply ML with all features\n",
    "model = linear_model.LinearRegression()\n",
    "print('-----Normalization-----')\n",
    "model_score(X_nor,y_nor,model)\n",
    "print('-----Standardization-----')\n",
    "model_score(X_sta,y_sta,model)"
   ]
  },
  {
   "cell_type": "code",
   "execution_count": 39,
   "metadata": {},
   "outputs": [
    {
     "name": "stdout",
     "output_type": "stream",
     "text": [
      "-----Normalization-----\n",
      "Adj_R^2: 0.664 \n",
      "RMSE: 9.331\n",
      "-----Standardization-----\n",
      "Adj_R^2: 0.664 \n",
      "RMSE: 9.331\n",
      "CPU times: user 373 ms, sys: 22.7 ms, total: 396 ms\n",
      "Wall time: 219 ms\n"
     ]
    }
   ],
   "source": [
    "%%time\n",
    "# Apply ML without remove_list features\n",
    "model = linear_model.LinearRegression()\n",
    "print('-----Normalization-----')\n",
    "model_score(X_nor.drop(remove_list,axis=1),y_nor,model)\n",
    "print('-----Standardization-----')\n",
    "model_score(X_sta.drop(remove_list,axis=1),y_sta,model)"
   ]
  },
  {
   "cell_type": "code",
   "execution_count": 40,
   "metadata": {},
   "outputs": [
    {
     "name": "stdout",
     "output_type": "stream",
     "text": [
      "-----Normalization-----\n",
      "Adj_R^2: 0.6633 \n",
      "RMSE: 9.3415\n",
      "-----Standardization-----\n",
      "Adj_R^2: 0.6633 \n",
      "RMSE: 9.3415\n",
      "CPU times: user 339 ms, sys: 20.2 ms, total: 359 ms\n",
      "Wall time: 199 ms\n"
     ]
    }
   ],
   "source": [
    "%%time\n",
    "# Apply ML without remove_list2 features\n",
    "model = linear_model.LinearRegression()\n",
    "print('-----Normalization-----')\n",
    "model_score(X_nor.drop(remove_list2,axis=1),y_nor,model)\n",
    "print('-----Standardization-----')\n",
    "model_score(X_sta.drop(remove_list2,axis=1),y_sta,model)"
   ]
  },
  {
   "cell_type": "markdown",
   "metadata": {},
   "source": [
    "Adj_R^2 and RMSE did not change with all features and without remove_list2 features. Thus, data without remove_list2 features are applied to other MLs."
   ]
  },
  {
   "cell_type": "markdown",
   "metadata": {},
   "source": [
    "## LASSO regression"
   ]
  },
  {
   "cell_type": "code",
   "execution_count": 41,
   "metadata": {},
   "outputs": [
    {
     "name": "stdout",
     "output_type": "stream",
     "text": [
      "-----Normalization-----\n",
      "Adj_R^2: 0.398 \n",
      "RMSE: 12.4923\n",
      "-----Standardization-----\n",
      "Adj_R^2: 0.6279 \n",
      "RMSE: 9.8208\n",
      "CPU times: user 405 ms, sys: 23.5 ms, total: 429 ms\n",
      "Wall time: 236 ms\n"
     ]
    }
   ],
   "source": [
    "%%time\n",
    "# Apply ML without b features after tuning\n",
    "model = linear_model.Lasso()\n",
    "print('-----Normalization-----')\n",
    "model_score(X_nor.drop(remove_list2,axis=1),y_nor,model)\n",
    "print('-----Standardization-----')\n",
    "model_score(X_sta.drop(remove_list2,axis=1),y_sta,model)"
   ]
  },
  {
   "cell_type": "code",
   "execution_count": 42,
   "metadata": {},
   "outputs": [],
   "source": [
    "# Tuning parameters/ finding the best configurations\n",
    "X_test = X_sta.drop(remove_list2,axis=1).copy()\n",
    "y_test = y_sta.copy()\n",
    "X_train, X_test, Y_train, Y_test = train_test_split(X_test, y_test, train_size = 0.7, test_size = 0.3, random_state = 0)\n",
    "    \n",
    "def parameters_grid(parameter,model):\n",
    "    param_grid = parameter\n",
    "    gs = GridSearchCV(model, param_grid)\n",
    "    grid_result = gs.fit(X_train,Y_train)\n",
    "    print('Best Params: ', grid_result.best_params_)"
   ]
  },
  {
   "cell_type": "code",
   "execution_count": 43,
   "metadata": {},
   "outputs": [
    {
     "name": "stdout",
     "output_type": "stream",
     "text": [
      "Best Params:  {'alpha': 0.001}\n"
     ]
    }
   ],
   "source": [
    "parameter = {'alpha':[0.001, 0.01, 0.1, 1, 10, 100, 1000]}\n",
    "model = linear_model.Lasso()\n",
    "parameters_grid(parameter,model)"
   ]
  },
  {
   "cell_type": "code",
   "execution_count": 44,
   "metadata": {},
   "outputs": [
    {
     "name": "stdout",
     "output_type": "stream",
     "text": [
      "-----Normalization-----\n",
      "Adj_R^2: 0.6633 \n",
      "RMSE: 9.3415\n",
      "-----Standardization-----\n",
      "Adj_R^2: 0.6633 \n",
      "RMSE: 9.3415\n",
      "CPU times: user 723 ms, sys: 24.7 ms, total: 748 ms\n",
      "Wall time: 398 ms\n"
     ]
    }
   ],
   "source": [
    "%%time\n",
    "# Apply ML without b features after tuning\n",
    "model = linear_model.Lasso(alpha=0.001)\n",
    "print('-----Normalization-----')\n",
    "model_score(X_nor.drop(remove_list2,axis=1),y_nor,model)\n",
    "print('-----Standardization-----')\n",
    "model_score(X_sta.drop(remove_list2,axis=1),y_sta,model)"
   ]
  },
  {
   "cell_type": "markdown",
   "metadata": {},
   "source": [
    "## Ridge regression"
   ]
  },
  {
   "cell_type": "code",
   "execution_count": 45,
   "metadata": {},
   "outputs": [
    {
     "name": "stdout",
     "output_type": "stream",
     "text": [
      "-----Normalization-----\n",
      "Adj_R^2: 0.6633 \n",
      "RMSE: 9.3415\n",
      "-----Standardization-----\n",
      "Adj_R^2: 0.6633 \n",
      "RMSE: 9.3415\n",
      "CPU times: user 274 ms, sys: 19.2 ms, total: 294 ms\n",
      "Wall time: 162 ms\n"
     ]
    }
   ],
   "source": [
    "%%time\n",
    "# Apply ML without b features after tuning\n",
    "model = linear_model.Ridge()\n",
    "print('-----Normalization-----')\n",
    "model_score(X_nor.drop(remove_list2,axis=1),y_nor,model)\n",
    "print('-----Standardization-----')\n",
    "model_score(X_sta.drop(remove_list2,axis=1),y_sta,model)"
   ]
  },
  {
   "cell_type": "code",
   "execution_count": 46,
   "metadata": {},
   "outputs": [
    {
     "name": "stdout",
     "output_type": "stream",
     "text": [
      "Best Params:  {'alpha': 10}\n"
     ]
    }
   ],
   "source": [
    "parameter = {'alpha':[0.001, 0.01, 0.1, 1, 10, 100, 1000]}\n",
    "model = linear_model.Ridge()\n",
    "parameters_grid(parameter,model)"
   ]
  },
  {
   "cell_type": "code",
   "execution_count": 47,
   "metadata": {},
   "outputs": [
    {
     "name": "stdout",
     "output_type": "stream",
     "text": [
      "-----Normalization-----\n",
      "Adj_R^2: 0.6633 \n",
      "RMSE: 9.342\n",
      "-----Standardization-----\n",
      "Adj_R^2: 0.6633 \n",
      "RMSE: 9.3415\n",
      "CPU times: user 258 ms, sys: 19.1 ms, total: 277 ms\n",
      "Wall time: 156 ms\n"
     ]
    }
   ],
   "source": [
    "%%time\n",
    "# Apply ML without b features after tuning\n",
    "model = linear_model.Ridge(alpha=10)\n",
    "print('-----Normalization-----')\n",
    "model_score(X_nor.drop(remove_list2,axis=1),y_nor,model)\n",
    "print('-----Standardization-----')\n",
    "model_score(X_sta.drop(remove_list2,axis=1),y_sta,model)"
   ]
  },
  {
   "cell_type": "markdown",
   "metadata": {},
   "source": [
    "## Polynomial regression"
   ]
  },
  {
   "cell_type": "code",
   "execution_count": 48,
   "metadata": {},
   "outputs": [
    {
     "name": "stdout",
     "output_type": "stream",
     "text": [
      "r^2 for degree = 1 is 0.6656919279533051\n",
      "r^2 for degree = 2 is 0.79086170481622\n",
      "r^2 for degree = 3 is 0.8748745548535118\n"
     ]
    }
   ],
   "source": [
    "# Finds the best degrees for polynomial regression\n",
    "for i in range(1,4):\n",
    "    polynomial_features = PolynomialFeatures(degree = i)\n",
    "    x_poly = polynomial_features.fit_transform(X_train)\n",
    "    x_poly_test = polynomial_features.fit_transform(X_test)\n",
    "    model = linear_model.LinearRegression()\n",
    "    model.fit(x_poly, Y_train)\n",
    "    y_poly_pred = model.predict(x_poly_test)\n",
    "    r2 = r2_score(Y_test,y_poly_pred)\n",
    "    print('r^2 for degree =',i,'is',r2)"
   ]
  },
  {
   "cell_type": "code",
   "execution_count": 49,
   "metadata": {},
   "outputs": [],
   "source": [
    "def poly_score(X,y,i):\n",
    "    polynomial_features= PolynomialFeatures(degree=i)\n",
    "    x_poly = polynomial_features.fit_transform(X)\n",
    "    x_poly = pd.DataFrame(x_poly)\n",
    "    model = linear_model.LinearRegression()\n",
    "    model_score(x_poly,y,model)"
   ]
  },
  {
   "cell_type": "code",
   "execution_count": 50,
   "metadata": {},
   "outputs": [
    {
     "name": "stdout",
     "output_type": "stream",
     "text": [
      "-----Normalization-----\n",
      "Adj_R^2: 0.7835 \n",
      "RMSE: 7.4052\n",
      "-----Standardization-----\n",
      "Adj_R^2: 0.7835 \n",
      "RMSE: 7.4052\n",
      "CPU times: user 5.28 s, sys: 312 ms, total: 5.59 s\n",
      "Wall time: 3.06 s\n"
     ]
    }
   ],
   "source": [
    "%%time\n",
    "print('-----Normalization-----')\n",
    "poly_score(X_nor.drop(remove_list2,axis=1),y_nor,2)\n",
    "print('-----Standardization-----')\n",
    "poly_score(X_sta.drop(remove_list2,axis=1),y_sta,2)"
   ]
  },
  {
   "cell_type": "code",
   "execution_count": 51,
   "metadata": {},
   "outputs": [
    {
     "name": "stdout",
     "output_type": "stream",
     "text": [
      "-----Normalization-----\n",
      "Adj_R^2: 0.8516 \n",
      "RMSE: 5.6663\n",
      "-----Standardization-----\n",
      "Adj_R^2: 0.8516 \n",
      "RMSE: 5.6663\n",
      "CPU times: user 1min 34s, sys: 4.14 s, total: 1min 38s\n",
      "Wall time: 58.8 s\n"
     ]
    }
   ],
   "source": [
    "%%time\n",
    "print('-----Normalization-----')\n",
    "poly_score(X_nor.drop(remove_list2,axis=1),y_nor,3)\n",
    "print('-----Standardization-----')\n",
    "poly_score(X_sta.drop(remove_list2,axis=1),y_sta,3)"
   ]
  },
  {
   "cell_type": "code",
   "execution_count": 52,
   "metadata": {},
   "outputs": [
    {
     "name": "stdout",
     "output_type": "stream",
     "text": [
      "Best Params:  {'linearregression__fit_intercept': True, 'linearregression__normalize': True, 'polynomialfeatures__include_bias': False, 'polynomialfeatures__interaction_only': False, 'polynomialfeatures__order': 'C'}\n"
     ]
    }
   ],
   "source": [
    "# Tuning parameters/ finding the best configurations\n",
    "def PolynomialRegression(degree=2, **kwargs):\n",
    "    return make_pipeline(PolynomialFeatures(degree), linear_model.LinearRegression(**kwargs))\n",
    "param_grid = {'polynomialfeatures__interaction_only':[True, False],\n",
    "              'polynomialfeatures__include_bias':[True, False],'polynomialfeatures__order':['C','F'],\n",
    "              'linearregression__fit_intercept': [True, False], 'linearregression__normalize': [True, False]}\n",
    "poly_grid = GridSearchCV(PolynomialRegression(), param_grid, cv=3)\n",
    "grid_result = poly_grid.fit(X_train, Y_train)\n",
    "print('Best Params: ', grid_result.best_params_)"
   ]
  },
  {
   "cell_type": "code",
   "execution_count": 53,
   "metadata": {},
   "outputs": [],
   "source": [
    "def poly_score_with_tuning(X,y,degree):\n",
    "    polynomial_features= PolynomialFeatures(degree=degree, interaction_only=False, include_bias=False, order='C')\n",
    "    x_poly = polynomial_features.fit_transform(X)\n",
    "    x_poly = pd.DataFrame(x_poly)\n",
    "    model = linear_model.LinearRegression(fit_intercept=True, normalize=True) # these parameters are default\n",
    "    model_score(x_poly,y,model)"
   ]
  },
  {
   "cell_type": "code",
   "execution_count": 54,
   "metadata": {},
   "outputs": [
    {
     "name": "stdout",
     "output_type": "stream",
     "text": [
      "-----Normalization-----\n",
      "Adj_R^2: 0.7835 \n",
      "RMSE: 7.4052\n",
      "-----Standardization-----\n",
      "Adj_R^2: 0.7835 \n",
      "RMSE: 7.4053\n",
      "CPU times: user 5.55 s, sys: 308 ms, total: 5.86 s\n",
      "Wall time: 3.11 s\n"
     ]
    }
   ],
   "source": [
    "%%time\n",
    "print('-----Normalization-----')\n",
    "poly_score_with_tuning(X_nor.drop(remove_list2,axis=1),y_nor,2)\n",
    "print('-----Standardization-----')\n",
    "poly_score_with_tuning(X_sta.drop(remove_list2,axis=1),y_sta,2)"
   ]
  },
  {
   "cell_type": "code",
   "execution_count": 55,
   "metadata": {},
   "outputs": [
    {
     "name": "stdout",
     "output_type": "stream",
     "text": [
      "-----Normalization-----\n",
      "Adj_R^2: 0.8516 \n",
      "RMSE: 5.6664\n",
      "-----Standardization-----\n",
      "Adj_R^2: 0.8516 \n",
      "RMSE: 5.6664\n",
      "CPU times: user 1min 32s, sys: 4.08 s, total: 1min 36s\n",
      "Wall time: 56.4 s\n"
     ]
    }
   ],
   "source": [
    "%%time\n",
    "print('-----Normalization-----')\n",
    "poly_score_with_tuning(X_nor.drop(remove_list2,axis=1),y_nor,3)\n",
    "print('-----Standardization-----')\n",
    "poly_score_with_tuning(X_sta.drop(remove_list2,axis=1),y_sta,3)"
   ]
  },
  {
   "cell_type": "code",
   "execution_count": 56,
   "metadata": {},
   "outputs": [],
   "source": [
    "def poly_score_with_tuning2(X,y,degree):\n",
    "    polynomial_features= PolynomialFeatures(degree=degree, interaction_only=True, include_bias=True, order='C')\n",
    "    x_poly = polynomial_features.fit_transform(X)\n",
    "    x_poly = pd.DataFrame(x_poly)\n",
    "    model = linear_model.LinearRegression(fit_intercept=True, normalize=True) # these parameters are default\n",
    "    model_score(x_poly,y,model)\n",
    "    print(len(model.coef_))"
   ]
  },
  {
   "cell_type": "code",
   "execution_count": 57,
   "metadata": {},
   "outputs": [
    {
     "name": "stdout",
     "output_type": "stream",
     "text": [
      "-----Normalization-----\n",
      "Adj_R^2: 0.7698 \n",
      "RMSE: 7.6453\n",
      "-----Standardization-----\n",
      "Adj_R^2: 0.7698 \n",
      "RMSE: 7.6453\n",
      "CPU times: user 4.89 s, sys: 183 ms, total: 5.07 s\n",
      "Wall time: 2.69 s\n"
     ]
    }
   ],
   "source": [
    "%%time\n",
    "print('-----Normalization-----')\n",
    "poly_score_with_tuning2(X_nor.drop(remove_list2,axis=1),y_nor,2)\n",
    "print('-----Standardization-----')\n",
    "poly_score_with_tuning2(X_sta.drop(remove_list2,axis=1),y_sta,2)"
   ]
  },
  {
   "cell_type": "code",
   "execution_count": 58,
   "metadata": {},
   "outputs": [
    {
     "name": "stdout",
     "output_type": "stream",
     "text": [
      "-----Normalization-----\n",
      "Adj_R^2: 0.8235 \n",
      "RMSE: 6.3437\n",
      "-----Standardization-----\n",
      "Adj_R^2: 0.8235 \n",
      "RMSE: 6.3437\n",
      "CPU times: user 55.1 s, sys: 2.8 s, total: 57.9 s\n",
      "Wall time: 34.4 s\n"
     ]
    }
   ],
   "source": [
    "%%time\n",
    "print('-----Normalization-----')\n",
    "poly_score_with_tuning2(X_nor.drop(remove_list2,axis=1),y_nor,3)\n",
    "print('-----Standardization-----')\n",
    "poly_score_with_tuning2(X_sta.drop(remove_list2,axis=1),y_sta,3)"
   ]
  },
  {
   "cell_type": "markdown",
   "metadata": {},
   "source": [
    "## K-nearest neighbor regression"
   ]
  },
  {
   "cell_type": "code",
   "execution_count": 59,
   "metadata": {},
   "outputs": [
    {
     "name": "stdout",
     "output_type": "stream",
     "text": [
      "r2 for k= 1 is 0.8499\n",
      "r2 for k= 2 is 0.8739\n",
      "r2 for k= 3 is 0.8714\n",
      "r2 for k= 4 is 0.866\n",
      "r2 for k= 5 is 0.8601\n",
      "r2 for k= 6 is 0.8546\n",
      "r2 for k= 7 is 0.8482\n",
      "r2 for k= 8 is 0.846\n",
      "r2 for k= 9 is 0.8423\n",
      "r2 for k= 10 is 0.8381\n"
     ]
    }
   ],
   "source": [
    "# Find the best k value\n",
    "score_val = []\n",
    "for k in range(1,11):\n",
    "    model = neighbors.KNeighborsRegressor(n_neighbors = k)\n",
    "    model.fit(X_train, Y_train) \n",
    "    Y_pred=model.predict(X_test) \n",
    "    r2_score_result = r2_score(Y_test, Y_pred)\n",
    "    score_val.append(r2_score_result)\n",
    "    print('r2 for k=' , k , 'is', round(r2_score_result,4))"
   ]
  },
  {
   "cell_type": "code",
   "execution_count": 60,
   "metadata": {},
   "outputs": [
    {
     "name": "stdout",
     "output_type": "stream",
     "text": [
      "-----Normalization-----\n",
      "Adj_R^2: 0.5389 \n",
      "RMSE: 10.9311\n",
      "-----Standardization-----\n",
      "Adj_R^2: 0.8851 \n",
      "RMSE: 5.4565\n",
      "CPU times: user 4.67 s, sys: 26.6 ms, total: 4.7 s\n",
      "Wall time: 4.7 s\n"
     ]
    }
   ],
   "source": [
    "%%time\n",
    "model = neighbors.KNeighborsRegressor(n_neighbors=3)\n",
    "print('-----Normalization-----')\n",
    "model_score(X_nor.drop(remove_list2,axis=1),y_nor,model)\n",
    "print('-----Standardization-----')\n",
    "model_score(X_sta.drop(remove_list2,axis=1),y_sta,model)"
   ]
  },
  {
   "cell_type": "code",
   "execution_count": 61,
   "metadata": {},
   "outputs": [
    {
     "name": "stdout",
     "output_type": "stream",
     "text": [
      "Best Params:  {'algorithm': 'auto', 'leaf_size': 10, 'p': 1, 'weights': 'distance'}\n"
     ]
    }
   ],
   "source": [
    "parameter = {'weights':['uniform','distance'], 'p':[1,2,3], \n",
    "             'algorithm':['auto', 'ball_tree', 'kd_tree', 'brute'],'leaf_size':[10,20,30]}\n",
    "model = neighbors.KNeighborsRegressor(n_neighbors=3)\n",
    "parameters_grid(parameter,model)"
   ]
  },
  {
   "cell_type": "code",
   "execution_count": 63,
   "metadata": {},
   "outputs": [
    {
     "name": "stdout",
     "output_type": "stream",
     "text": [
      "-----Normalization-----\n",
      "Adj_R^2: 0.7784 \n",
      "RMSE: 7.5789\n",
      "-----Standardization-----\n",
      "Adj_R^2: 0.932 \n",
      "RMSE: 4.1964\n",
      "CPU times: user 8.9 s, sys: 42.9 ms, total: 8.95 s\n",
      "Wall time: 8.96 s\n"
     ]
    }
   ],
   "source": [
    "%%time\n",
    "model = neighbors.KNeighborsRegressor(n_neighbors=3, weights='distance', p=1, leaf_size=10)\n",
    "print('-----Normalization-----')\n",
    "model_score(X_nor.drop(remove_list2,axis=1),y_nor,model)\n",
    "print('-----Standardization-----')\n",
    "model_score(X_sta.drop(remove_list2,axis=1),y_sta,model)"
   ]
  },
  {
   "cell_type": "markdown",
   "metadata": {},
   "source": [
    "## Support vector regression"
   ]
  },
  {
   "cell_type": "code",
   "execution_count": 64,
   "metadata": {},
   "outputs": [
    {
     "name": "stdout",
     "output_type": "stream",
     "text": [
      "-----Normalization-----\n",
      "Adj_R^2: 0.5086 \n",
      "RMSE: 11.2862\n",
      "-----Standardization-----\n",
      "Adj_R^2: 0.6915 \n",
      "RMSE: 8.9427\n",
      "CPU times: user 7min 36s, sys: 3.93 s, total: 7min 40s\n",
      "Wall time: 7min 41s\n"
     ]
    }
   ],
   "source": [
    "%%time\n",
    "model = svm.SVR()\n",
    "print('-----Normalization-----')\n",
    "model_score(X_nor.drop(remove_list2,axis=1),y_nor,model)\n",
    "print('-----Standardization-----')\n",
    "model_score(X_sta.drop(remove_list2,axis=1),y_sta,model)"
   ]
  },
  {
   "cell_type": "code",
   "execution_count": 65,
   "metadata": {},
   "outputs": [],
   "source": [
    "def parameters_manual(model):\n",
    "    estimator = model\n",
    "    estimator.fit(X_train, Y_train)\n",
    "    y_pred = estimator.predict(X_test)\n",
    "    r2 = r2_score(Y_test, y_pred)\n",
    "    adjusted_r2 = 1 - (1-r2)*(len(Y_test)-1)/(len(Y_test)-X_train.shape[1]-1)\n",
    "    print('Adj_R^2:',round(adjusted_r2,4))"
   ]
  },
  {
   "cell_type": "code",
   "execution_count": 66,
   "metadata": {},
   "outputs": [
    {
     "name": "stdout",
     "output_type": "stream",
     "text": [
      "Adj_R^2: 0.8176\n",
      "Adj_R^2: 0.8108\n",
      "Adj_R^2: 0.7987\n",
      "Adj_R^2: 0.7805\n"
     ]
    }
   ],
   "source": [
    "for i in [3,5,7,9]:\n",
    "    parameters_manual(svm.SVR(gamma='auto', C=3, epsilon=i, tol=1))"
   ]
  },
  {
   "cell_type": "code",
   "execution_count": 67,
   "metadata": {},
   "outputs": [
    {
     "name": "stdout",
     "output_type": "stream",
     "text": [
      "Adj_R^2: 0.8417\n",
      "Adj_R^2: 0.8352\n",
      "Adj_R^2: 0.8213\n",
      "Adj_R^2: 0.8034\n"
     ]
    }
   ],
   "source": [
    "for i in [3,5,7,9]:\n",
    "    parameters_manual(svm.SVR(gamma='auto', C=5, epsilon=i, tol=1))"
   ]
  },
  {
   "cell_type": "code",
   "execution_count": 68,
   "metadata": {},
   "outputs": [
    {
     "name": "stdout",
     "output_type": "stream",
     "text": [
      "Adj_R^2: 0.8557\n",
      "Adj_R^2: 0.848\n",
      "Adj_R^2: 0.8343\n",
      "Adj_R^2: 0.8159\n"
     ]
    }
   ],
   "source": [
    "for i in [3,5,7,9]:\n",
    "    parameters_manual(svm.SVR(gamma='auto', C=7, epsilon=i, tol=1))"
   ]
  },
  {
   "cell_type": "code",
   "execution_count": 69,
   "metadata": {},
   "outputs": [
    {
     "name": "stdout",
     "output_type": "stream",
     "text": [
      "Adj_R^2: 0.8654\n",
      "Adj_R^2: 0.8563\n",
      "Adj_R^2: 0.8429\n",
      "Adj_R^2: 0.8254\n"
     ]
    }
   ],
   "source": [
    "for i in [3,5,7,9]:\n",
    "    parameters_manual(svm.SVR(gamma='auto', C=9, epsilon=i, tol=1))"
   ]
  },
  {
   "cell_type": "code",
   "execution_count": 70,
   "metadata": {},
   "outputs": [
    {
     "name": "stdout",
     "output_type": "stream",
     "text": [
      "-----Normalization-----\n",
      "Adj_R^2: 0.7148 \n",
      "RMSE: 8.5988\n",
      "-----Standardization-----\n",
      "Adj_R^2: 0.8313 \n",
      "RMSE: 6.6126\n",
      "CPU times: user 1min 7s, sys: 1.52 s, total: 1min 9s\n",
      "Wall time: 1min 9s\n"
     ]
    }
   ],
   "source": [
    "%%time\n",
    "model = svm.SVR(kernel='rbf', gamma='auto', C=9, epsilon=9,tol=1)\n",
    "print('-----Normalization-----')\n",
    "model_score(X_nor.drop(remove_list2,axis=1),y_nor,model)\n",
    "print('-----Standardization-----')\n",
    "model_score(X_sta.drop(remove_list2,axis=1),y_sta,model)"
   ]
  },
  {
   "cell_type": "markdown",
   "metadata": {},
   "source": [
    "## Decision tree"
   ]
  },
  {
   "cell_type": "code",
   "execution_count": 85,
   "metadata": {},
   "outputs": [
    {
     "name": "stdout",
     "output_type": "stream",
     "text": [
      "r^2 for depth = 1 is 0.27684976832242747\n",
      "r^2 for depth = 2 is 0.46096542839851795\n",
      "r^2 for depth = 3 is 0.549856339150795\n",
      "r^2 for depth = 4 is 0.6194224841323593\n",
      "r^2 for depth = 5 is 0.6674210235370288\n",
      "r^2 for depth = 6 is 0.7102950497916538\n",
      "r^2 for depth = 7 is 0.7353050324921583\n",
      "r^2 for depth = 8 is 0.7668997578477156\n",
      "r^2 for depth = 9 is 0.7859824175424858\n",
      "r^2 for depth = 10 is 0.797960634553855\n",
      "r^2 for depth = 11 is 0.8118715837988022\n",
      "r^2 for depth = 12 is 0.8180623172416275\n",
      "r^2 for depth = 13 is 0.8174491518029942\n",
      "r^2 for depth = 14 is 0.8138222453595874\n",
      "r^2 for depth = 15 is 0.814535477258898\n",
      "r^2 for depth = 16 is 0.8081846906412253\n",
      "r^2 for depth = 17 is 0.8115340806431228\n",
      "r^2 for depth = 18 is 0.8042958931720383\n",
      "r^2 for depth = 19 is 0.8096439324549878\n",
      "r^2 for depth = 20 is 0.8037651845712372\n"
     ]
    }
   ],
   "source": [
    "# Finds the best max_depth value\n",
    "for i in range(1,21):\n",
    "    model = DecisionTreeRegressor(max_depth = i, random_state=5)\n",
    "    model.fit(X_train,Y_train)\n",
    "    Y_pred = model.predict(X_test)\n",
    "    r2 = r2_score(Y_test, Y_pred)\n",
    "    print('r^2 for depth =',i,'is',r2)"
   ]
  },
  {
   "cell_type": "code",
   "execution_count": 86,
   "metadata": {},
   "outputs": [
    {
     "name": "stdout",
     "output_type": "stream",
     "text": [
      "-----Normalization-----\n",
      "Adj_R^2: 0.8275 \n",
      "RMSE: 6.6846\n",
      "-----Standardization-----\n",
      "Adj_R^2: 0.8275 \n",
      "RMSE: 6.6846\n",
      "CPU times: user 4.85 s, sys: 50.2 ms, total: 4.9 s\n",
      "Wall time: 5.08 s\n"
     ]
    }
   ],
   "source": [
    "%%time\n",
    "model = DecisionTreeRegressor(max_depth = 16, random_state=5)\n",
    "print('-----Normalization-----')\n",
    "model_score(X_nor.drop(remove_list2,axis=1),y_nor,model)\n",
    "print('-----Standardization-----')\n",
    "model_score(X_sta.drop(remove_list2,axis=1),y_sta,model)"
   ]
  },
  {
   "cell_type": "code",
   "execution_count": 73,
   "metadata": {},
   "outputs": [
    {
     "name": "stdout",
     "output_type": "stream",
     "text": [
      "Best Params:  {'max_features': 'auto', 'splitter': 'best'}\n"
     ]
    }
   ],
   "source": [
    "parameter = {'splitter':['best', 'random'], 'max_features':['auto', 'sqrt', 'log2',None]}\n",
    "model = DecisionTreeRegressor(max_depth = 16, random_state=0)\n",
    "parameters_grid(parameter,model)"
   ]
  },
  {
   "cell_type": "code",
   "execution_count": 74,
   "metadata": {},
   "outputs": [
    {
     "name": "stdout",
     "output_type": "stream",
     "text": [
      "-----Normalization-----\n",
      "Adj_R^2: 0.8286 \n",
      "RMSE: 6.6659\n",
      "-----Standardization-----\n",
      "Adj_R^2: 0.8286 \n",
      "RMSE: 6.6659\n",
      "CPU times: user 4.62 s, sys: 27.2 ms, total: 4.65 s\n",
      "Wall time: 4.65 s\n"
     ]
    }
   ],
   "source": [
    "%%time\n",
    "model = DecisionTreeRegressor(max_depth = 16,splitter='best', max_features= 'auto', random_state=0)\n",
    "print('-----Normalization-----')\n",
    "model_score(X_nor.drop(remove_list2,axis=1),y_nor,model)\n",
    "print('-----Standardization-----')\n",
    "model_score(X_sta.drop(remove_list2,axis=1),y_sta,model)"
   ]
  },
  {
   "cell_type": "code",
   "execution_count": 75,
   "metadata": {},
   "outputs": [
    {
     "name": "stdout",
     "output_type": "stream",
     "text": [
      "-----Normalization-----\n",
      "Adj_R^2: 0.8179 \n",
      "RMSE: 6.8682\n",
      "-----Standardization-----\n",
      "Adj_R^2: 0.8179 \n",
      "RMSE: 6.8682\n",
      "CPU times: user 988 ms, sys: 21.5 ms, total: 1.01 s\n",
      "Wall time: 1.01 s\n"
     ]
    }
   ],
   "source": [
    "%%time\n",
    "model = DecisionTreeRegressor(max_depth = 16,splitter='random', max_features= 'auto', random_state=0)\n",
    "print('-----Normalization-----')\n",
    "model_score(X_nor.drop(remove_list2,axis=1),y_nor,model)\n",
    "print('-----Standardization-----')\n",
    "model_score(X_sta.drop(remove_list2,axis=1),y_sta,model)"
   ]
  },
  {
   "cell_type": "code",
   "execution_count": 76,
   "metadata": {},
   "outputs": [
    {
     "name": "stdout",
     "output_type": "stream",
     "text": [
      "Best Params:  {'min_samples_leaf': 2, 'min_samples_split': 8}\n"
     ]
    }
   ],
   "source": [
    "parameter = {'min_samples_split':[2,4,6,8,10], 'min_samples_leaf':[None,2,4,6,8,10]}\n",
    "model = DecisionTreeRegressor(max_depth = 16,splitter='random',random_state=0)\n",
    "parameters_grid(parameter,model)"
   ]
  },
  {
   "cell_type": "code",
   "execution_count": 87,
   "metadata": {},
   "outputs": [
    {
     "name": "stdout",
     "output_type": "stream",
     "text": [
      "-----Normalization-----\n",
      "Adj_R^2: 0.8354 \n",
      "RMSE: 6.5284\n",
      "-----Standardization-----\n",
      "Adj_R^2: 0.8354 \n",
      "RMSE: 6.5284\n",
      "CPU times: user 811 ms, sys: 17.8 ms, total: 829 ms\n",
      "Wall time: 847 ms\n"
     ]
    }
   ],
   "source": [
    "%%time\n",
    "model = DecisionTreeRegressor(max_depth = 16,splitter='random', max_features='auto',random_state=0,\n",
    "                              min_samples_split= 8,min_samples_leaf = 2)\n",
    "print('-----Normalization-----')\n",
    "model_score(X_nor.drop(remove_list2,axis=1),y_nor,model)\n",
    "print('-----Standardization-----')\n",
    "model_score(X_sta.drop(remove_list2,axis=1),y_sta,model)"
   ]
  },
  {
   "cell_type": "markdown",
   "metadata": {},
   "source": [
    "## Random forest"
   ]
  },
  {
   "cell_type": "code",
   "execution_count": 78,
   "metadata": {},
   "outputs": [
    {
     "name": "stdout",
     "output_type": "stream",
     "text": [
      "r^2 for depth = 1 is 0.7605352842163745\n",
      "r^2 for depth = 2 is 0.8451448762009024\n",
      "r^2 for depth = 3 is 0.8686613385623274\n",
      "r^2 for depth = 4 is 0.8802134045805494\n",
      "r^2 for depth = 5 is 0.8878975302250235\n",
      "r^2 for depth = 6 is 0.8921686436899764\n",
      "r^2 for depth = 7 is 0.8970161824078045\n",
      "r^2 for depth = 8 is 0.9004619977600778\n",
      "r^2 for depth = 9 is 0.900964698060687\n",
      "r^2 for depth = 10 is 0.9016978449519385\n",
      "r^2 for depth = 11 is 0.902856981076061\n",
      "r^2 for depth = 12 is 0.904519816867833\n",
      "r^2 for depth = 13 is 0.9056370134828435\n",
      "r^2 for depth = 14 is 0.9069267504113016\n",
      "r^2 for depth = 15 is 0.9079398711750583\n"
     ]
    }
   ],
   "source": [
    "# Finds the best n_estimators value\n",
    "for i in range(1,16):\n",
    "    model = RandomForestRegressor(n_estimators = i, random_state=0)\n",
    "    model.fit(X_train,Y_train)\n",
    "    Y_pred = model.predict(X_test)\n",
    "    r2 = r2_score(Y_test, Y_pred)\n",
    "    print('r^2 for depth =',i,'is',r2)"
   ]
  },
  {
   "cell_type": "code",
   "execution_count": 79,
   "metadata": {},
   "outputs": [
    {
     "name": "stdout",
     "output_type": "stream",
     "text": [
      "-----Normalization-----\n",
      "Adj_R^2: 0.9027 \n",
      "RMSE: 5.023\n",
      "-----Standardization-----\n",
      "Adj_R^2: 0.9027 \n",
      "RMSE: 5.0231\n",
      "CPU times: user 18.9 s, sys: 115 ms, total: 19 s\n",
      "Wall time: 19 s\n"
     ]
    }
   ],
   "source": [
    "%%time\n",
    "# Apply ML without b features\n",
    "model = RandomForestRegressor(n_estimators = 6, random_state=0)\n",
    "print('-----Normalization-----')\n",
    "model_score(X_nor.drop(remove_list2,axis=1),y_nor,model)\n",
    "print('-----Standardization-----')\n",
    "model_score(X_sta.drop(remove_list2,axis=1),y_sta,model)"
   ]
  },
  {
   "cell_type": "code",
   "execution_count": 80,
   "metadata": {},
   "outputs": [
    {
     "name": "stdout",
     "output_type": "stream",
     "text": [
      "Best Params:  {'bootstrap': False, 'max_features': 'sqrt', 'min_samples_leaf': 1, 'min_samples_split': 2}\n"
     ]
    }
   ],
   "source": [
    "parameter = {'bootstrap': [True, False], 'max_features': ['auto', 'sqrt'],\n",
    "             'min_samples_leaf': [1, 2, 4], 'min_samples_split': [2, 5, 10]}\n",
    "model = RandomForestRegressor(n_estimators = 6, random_state=0)\n",
    "parameters_grid(parameter,model)"
   ]
  },
  {
   "cell_type": "code",
   "execution_count": 81,
   "metadata": {},
   "outputs": [
    {
     "name": "stdout",
     "output_type": "stream",
     "text": [
      "-----Normalization-----\n",
      "Adj_R^2: 0.9039 \n",
      "RMSE: 4.9899\n",
      "-----Standardization-----\n",
      "Adj_R^2: 0.9039 \n",
      "RMSE: 4.99\n",
      "CPU times: user 5.62 s, sys: 94.6 ms, total: 5.71 s\n",
      "Wall time: 5.72 s\n"
     ]
    }
   ],
   "source": [
    "%%time\n",
    "model = RandomForestRegressor(n_estimators = 6, min_samples_leaf=1, min_samples_split=2,\n",
    "                              bootstrap=True,max_features='sqrt',random_state=0)\n",
    "print('-----Normalization-----')\n",
    "model_score(X_nor.drop(remove_list2,axis=1),y_nor,model)\n",
    "print('-----Standardization-----')\n",
    "model_score(X_sta.drop(remove_list2,axis=1),y_sta,model)"
   ]
  },
  {
   "cell_type": "markdown",
   "metadata": {},
   "source": [
    "## Neural network"
   ]
  },
  {
   "cell_type": "code",
   "execution_count": 82,
   "metadata": {},
   "outputs": [],
   "source": [
    "# Calculate ML model's Evaluation\n",
    "def model_score_NN(X,y,model,epochs,batch_size,early_stopping):\n",
    "    kf = KFold(n_splits=5, shuffle=True, random_state=0)\n",
    "    score_adjusted_r2 = []\n",
    "    score_rmse = []\n",
    "    for train_index, val_index in kf.split(X):\n",
    "        X_train_fold, X_val_fold = X.iloc[train_index], X.iloc[val_index]\n",
    "        y_train_fold, y_val_fold = y.iloc[train_index], y.iloc[val_index]\n",
    "        model.fit(X_train_fold, y_train_fold,epochs=epochs,batch_size=batch_size,verbose=0,callbacks=[early_stopping])\n",
    "        y_pred = model.predict(X_val_fold)\n",
    "        r2_score_result = r2_score(y_val_fold, y_pred)\n",
    "        adjusted_r2_score_result = 1 - (1-r2_score_result)*(len(y_val_fold)-1)/(len(y_val_fold)-X_train_fold.shape[1]-1)\n",
    "        rmse_score_result = np.sqrt(mean_squared_error(y_val_fold, y_pred))\n",
    "        score_adjusted_r2.append(adjusted_r2_score_result)\n",
    "        score_rmse.append(rmse_score_result)\n",
    "    avg_adjusted_r2_score = round(np.mean(score_adjusted_r2),4)\n",
    "    avg_rmse_score = round(np.mean(score_rmse),4)\n",
    "    print('Adj_R^2:', avg_adjusted_r2_score, '\\nRMSE:', avg_rmse_score)"
   ]
  },
  {
   "cell_type": "code",
   "execution_count": 83,
   "metadata": {},
   "outputs": [],
   "source": [
    "def build_model_test():\n",
    "    model = keras.Sequential([\n",
    "        keras.layers.Dense(64, activation=tf.nn.relu,\n",
    "                           input_shape=[17]),\n",
    "        keras.layers.Dense(16, activation=tf.nn.relu),\n",
    "        keras.layers.Dense(8, activation=tf.nn.relu),\n",
    "        keras.layers.Dense(1)\n",
    "                           ])\n",
    "    optimizer = tf.keras.optimizers.Adam(learning_rate=0.01)\n",
    "    tf.random.set_seed(0)\n",
    "    model.compile(loss='mse', optimizer=optimizer, metrics=['mse'])\n",
    "    \n",
    "    return model"
   ]
  },
  {
   "cell_type": "code",
   "execution_count": 84,
   "metadata": {},
   "outputs": [
    {
     "name": "stdout",
     "output_type": "stream",
     "text": [
      "-----Normalization-----\n",
      "Adj_R^2: 0.8154 \n",
      "RMSE: 6.9146\n",
      "-----Standardization-----\n",
      "Adj_R^2: 0.9024 \n",
      "RMSE: 5.0279\n",
      "CPU times: user 43.8 s, sys: 4.81 s, total: 48.6 s\n",
      "Wall time: 20.4 s\n"
     ]
    }
   ],
   "source": [
    "%%time \n",
    "early_stopping = tf.keras.callbacks.EarlyStopping(monitor='mse', min_delta=0.1, patience=10, verbose=0)\n",
    "model = build_model_test()\n",
    "print('-----Normalization-----')\n",
    "model_score_NN(X_nor.drop(remove_list2,axis=1),y_nor,model,500,2048,early_stopping)\n",
    "print('-----Standardization-----')\n",
    "model = build_model_test()\n",
    "model_score_NN(X_sta.drop(remove_list2,axis=1),y_sta,model,500,2048,early_stopping)"
   ]
  },
  {
   "cell_type": "markdown",
   "metadata": {},
   "source": [
    "# Applying the best machine learning model with test data"
   ]
  },
  {
   "cell_type": "code",
   "execution_count": 85,
   "metadata": {},
   "outputs": [],
   "source": [
    "# Calculate ML model's scores\n",
    "def test_set_model_score(x_train,y_train,x_test,y_test,model):\n",
    "    model.fit(x_train, y_train)\n",
    "    y_pred = model.predict(x_test)\n",
    "    r2_score_result = r2_score(y_test, y_pred)\n",
    "    adjusted_r2_score_result = round(1 - (1-r2_score_result)*(len(y_test)-1)/(len(y_test)-x_train.shape[1]-1),4)\n",
    "    rmse_score_result = round(np.sqrt(mean_squared_error(y_test, y_pred)),4)\n",
    "    print('Adj_R^2:', adjusted_r2_score_result, '\\nRMSE:', rmse_score_result)"
   ]
  },
  {
   "cell_type": "code",
   "execution_count": 86,
   "metadata": {},
   "outputs": [
    {
     "name": "stdout",
     "output_type": "stream",
     "text": [
      "-----Normalization-----\n",
      "Adj_R^2: 0.9097 \n",
      "RMSE: 4.9041\n",
      "-----Standardization-----\n",
      "Adj_R^2: 0.9114 \n",
      "RMSE: 4.8568\n",
      "CPU times: user 1.5 s, sys: 39.2 ms, total: 1.54 s\n",
      "Wall time: 1.57 s\n"
     ]
    }
   ],
   "source": [
    "%%time\n",
    "model = RandomForestRegressor(n_estimators = 6, bootstrap=True, max_features='sqrt',\n",
    "                              min_samples_leaf=1, min_samples_split=2)\n",
    "print('-----Normalization-----')\n",
    "test_set_model_score(X_nor.drop(remove_list2,axis=1),y_nor,X_test_nor.drop(remove_list2,axis=1),y_test_nor,model)\n",
    "print('-----Standardization-----')\n",
    "test_set_model_score(X_sta.drop(remove_list2,axis=1),y_sta,X_test_sta.drop(remove_list2,axis=1),y_test_sta,model)"
   ]
  }
 ],
 "metadata": {
  "kernelspec": {
   "display_name": "Python 3",
   "language": "python",
   "name": "python3"
  },
  "language_info": {
   "codemirror_mode": {
    "name": "ipython",
    "version": 3
   },
   "file_extension": ".py",
   "mimetype": "text/x-python",
   "name": "python",
   "nbconvert_exporter": "python",
   "pygments_lexer": "ipython3",
   "version": "3.7.4"
  }
 },
 "nbformat": 4,
 "nbformat_minor": 4
}
